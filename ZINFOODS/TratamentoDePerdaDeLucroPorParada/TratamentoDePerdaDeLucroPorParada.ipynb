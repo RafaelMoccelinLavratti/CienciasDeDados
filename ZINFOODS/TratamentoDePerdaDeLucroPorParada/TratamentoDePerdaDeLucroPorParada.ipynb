{
 "cells": [
  {
   "cell_type": "code",
   "execution_count": 43,
   "metadata": {},
   "outputs": [
    {
     "data": {
      "text/html": [
       "<div>\n",
       "<style scoped>\n",
       "    .dataframe tbody tr th:only-of-type {\n",
       "        vertical-align: middle;\n",
       "    }\n",
       "\n",
       "    .dataframe tbody tr th {\n",
       "        vertical-align: top;\n",
       "    }\n",
       "\n",
       "    .dataframe thead th {\n",
       "        text-align: right;\n",
       "    }\n",
       "</style>\n",
       "<table border=\"1\" class=\"dataframe\">\n",
       "  <thead>\n",
       "    <tr style=\"text-align: right;\">\n",
       "      <th></th>\n",
       "      <th>LocalDateTable_96d7b74f-5a88-4a4e-9223-da2f34fda5d5[Ano]</th>\n",
       "      <th>LocalDateTable_96d7b74f-5a88-4a4e-9223-da2f34fda5d5[Mês]</th>\n",
       "      <th>LocalDateTable_96d7b74f-5a88-4a4e-9223-da2f34fda5d5[MonthNo]</th>\n",
       "      <th>LocalDateTable_96d7b74f-5a88-4a4e-9223-da2f34fda5d5[Dia]</th>\n",
       "      <th>[Quantidade_Distinta_de_Pedidos]</th>\n",
       "    </tr>\n",
       "  </thead>\n",
       "  <tbody>\n",
       "    <tr>\n",
       "      <th>0</th>\n",
       "      <td>2018</td>\n",
       "      <td>janeiro</td>\n",
       "      <td>1</td>\n",
       "      <td>2</td>\n",
       "      <td>164</td>\n",
       "    </tr>\n",
       "    <tr>\n",
       "      <th>1</th>\n",
       "      <td>2018</td>\n",
       "      <td>janeiro</td>\n",
       "      <td>1</td>\n",
       "      <td>3</td>\n",
       "      <td>115</td>\n",
       "    </tr>\n",
       "    <tr>\n",
       "      <th>2</th>\n",
       "      <td>2018</td>\n",
       "      <td>janeiro</td>\n",
       "      <td>1</td>\n",
       "      <td>4</td>\n",
       "      <td>126</td>\n",
       "    </tr>\n",
       "    <tr>\n",
       "      <th>3</th>\n",
       "      <td>2018</td>\n",
       "      <td>janeiro</td>\n",
       "      <td>1</td>\n",
       "      <td>5</td>\n",
       "      <td>97</td>\n",
       "    </tr>\n",
       "    <tr>\n",
       "      <th>4</th>\n",
       "      <td>2018</td>\n",
       "      <td>janeiro</td>\n",
       "      <td>1</td>\n",
       "      <td>7</td>\n",
       "      <td>1</td>\n",
       "    </tr>\n",
       "  </tbody>\n",
       "</table>\n",
       "</div>"
      ],
      "text/plain": [
       "   LocalDateTable_96d7b74f-5a88-4a4e-9223-da2f34fda5d5[Ano]  \\\n",
       "0                                               2018          \n",
       "1                                               2018          \n",
       "2                                               2018          \n",
       "3                                               2018          \n",
       "4                                               2018          \n",
       "\n",
       "  LocalDateTable_96d7b74f-5a88-4a4e-9223-da2f34fda5d5[Mês]  \\\n",
       "0                                            janeiro         \n",
       "1                                            janeiro         \n",
       "2                                            janeiro         \n",
       "3                                            janeiro         \n",
       "4                                            janeiro         \n",
       "\n",
       "   LocalDateTable_96d7b74f-5a88-4a4e-9223-da2f34fda5d5[MonthNo]  \\\n",
       "0                                                  1              \n",
       "1                                                  1              \n",
       "2                                                  1              \n",
       "3                                                  1              \n",
       "4                                                  1              \n",
       "\n",
       "   LocalDateTable_96d7b74f-5a88-4a4e-9223-da2f34fda5d5[Dia]  \\\n",
       "0                                                  2          \n",
       "1                                                  3          \n",
       "2                                                  4          \n",
       "3                                                  5          \n",
       "4                                                  7          \n",
       "\n",
       "   [Quantidade_Distinta_de_Pedidos]  \n",
       "0                               164  \n",
       "1                               115  \n",
       "2                               126  \n",
       "3                                97  \n",
       "4                                 1  "
      ]
     },
     "execution_count": 43,
     "metadata": {},
     "output_type": "execute_result"
    }
   ],
   "source": [
    "import pandas as pd \n",
    "import seaborn as srn \n",
    "import statistics as sts \n",
    "import numpy as np \n",
    "\n",
    "dataset = pd.read_csv(\"C:/Users/Rafael.M  S.I T.I/CiencasDeDados/ZINFOODS/DADOS/PedidosDia.csv\", sep = \";\")\n",
    "dataset.head()"
   ]
  },
  {
   "cell_type": "code",
   "execution_count": 44,
   "metadata": {},
   "outputs": [
    {
     "data": {
      "text/plain": [
       "(1627, 5)"
      ]
     },
     "execution_count": 44,
     "metadata": {},
     "output_type": "execute_result"
    }
   ],
   "source": [
    "dataset.shape"
   ]
  },
  {
   "cell_type": "code",
   "execution_count": 45,
   "metadata": {},
   "outputs": [
    {
     "data": {
      "text/html": [
       "<div>\n",
       "<style scoped>\n",
       "    .dataframe tbody tr th:only-of-type {\n",
       "        vertical-align: middle;\n",
       "    }\n",
       "\n",
       "    .dataframe tbody tr th {\n",
       "        vertical-align: top;\n",
       "    }\n",
       "\n",
       "    .dataframe thead th {\n",
       "        text-align: right;\n",
       "    }\n",
       "</style>\n",
       "<table border=\"1\" class=\"dataframe\">\n",
       "  <thead>\n",
       "    <tr style=\"text-align: right;\">\n",
       "      <th></th>\n",
       "      <th>Ano</th>\n",
       "      <th>Mes</th>\n",
       "      <th>Mesn</th>\n",
       "      <th>Dia</th>\n",
       "      <th>Pedidos</th>\n",
       "    </tr>\n",
       "  </thead>\n",
       "  <tbody>\n",
       "    <tr>\n",
       "      <th>0</th>\n",
       "      <td>2018</td>\n",
       "      <td>janeiro</td>\n",
       "      <td>1</td>\n",
       "      <td>2</td>\n",
       "      <td>164</td>\n",
       "    </tr>\n",
       "    <tr>\n",
       "      <th>1</th>\n",
       "      <td>2018</td>\n",
       "      <td>janeiro</td>\n",
       "      <td>1</td>\n",
       "      <td>3</td>\n",
       "      <td>115</td>\n",
       "    </tr>\n",
       "    <tr>\n",
       "      <th>2</th>\n",
       "      <td>2018</td>\n",
       "      <td>janeiro</td>\n",
       "      <td>1</td>\n",
       "      <td>4</td>\n",
       "      <td>126</td>\n",
       "    </tr>\n",
       "    <tr>\n",
       "      <th>3</th>\n",
       "      <td>2018</td>\n",
       "      <td>janeiro</td>\n",
       "      <td>1</td>\n",
       "      <td>5</td>\n",
       "      <td>97</td>\n",
       "    </tr>\n",
       "    <tr>\n",
       "      <th>4</th>\n",
       "      <td>2018</td>\n",
       "      <td>janeiro</td>\n",
       "      <td>1</td>\n",
       "      <td>7</td>\n",
       "      <td>1</td>\n",
       "    </tr>\n",
       "  </tbody>\n",
       "</table>\n",
       "</div>"
      ],
      "text/plain": [
       "    Ano      Mes  Mesn  Dia  Pedidos\n",
       "0  2018  janeiro     1    2      164\n",
       "1  2018  janeiro     1    3      115\n",
       "2  2018  janeiro     1    4      126\n",
       "3  2018  janeiro     1    5       97\n",
       "4  2018  janeiro     1    7        1"
      ]
     },
     "execution_count": 45,
     "metadata": {},
     "output_type": "execute_result"
    }
   ],
   "source": [
    "dataset.columns = [\"Ano\",\"Mes\",\"Mesn\",\"Dia\",\"Pedidos\"]\n",
    "dataset.head()"
   ]
  },
  {
   "cell_type": "code",
   "execution_count": 64,
   "metadata": {},
   "outputs": [
    {
     "name": "stdout",
     "output_type": "stream",
     "text": [
      "       Ano     Mes  Mesn  Dia  Pedidos\n",
      "176   2018  agosto     8    1       17\n",
      "177   2018  agosto     8    2       67\n",
      "178   2018  agosto     8    3       77\n",
      "179   2018  agosto     8    6       81\n",
      "180   2018  agosto     8    7      191\n",
      "...    ...     ...   ...  ...      ...\n",
      "1576  2023  agosto     8   25       98\n",
      "1577  2023  agosto     8   28       73\n",
      "1578  2023  agosto     8   29      114\n",
      "1579  2023  agosto     8   30      115\n",
      "1580  2023  agosto     8   31       20\n",
      "\n",
      "[147 rows x 5 columns]\n"
     ]
    }
   ],
   "source": [
    "#fILTRO a partir de nome\n",
    "mes = ['agosto']\n",
    "linhas_selecionadas = dataset.loc[dataset['Mes'].isin(mes)]\n",
    "print(linhas_selecionadas)"
   ]
  },
  {
   "cell_type": "code",
   "execution_count": 67,
   "metadata": {},
   "outputs": [
    {
     "name": "stdout",
     "output_type": "stream",
     "text": [
      "       Ano     Mes  Mesn  Dia  Pedidos\n",
      "1558  2023  agosto     8    1      123\n",
      "1559  2023  agosto     8    2      101\n",
      "1560  2023  agosto     8    3        8\n",
      "1561  2023  agosto     8    4      109\n",
      "1562  2023  agosto     8    7       64\n",
      "1563  2023  agosto     8    8      156\n",
      "1564  2023  agosto     8    9      105\n",
      "1565  2023  agosto     8   10       11\n",
      "1566  2023  agosto     8   11      110\n",
      "1567  2023  agosto     8   14       94\n",
      "1568  2023  agosto     8   15       75\n",
      "1569  2023  agosto     8   16      104\n",
      "1570  2023  agosto     8   17       10\n",
      "1571  2023  agosto     8   18      105\n",
      "1572  2023  agosto     8   21      123\n",
      "1573  2023  agosto     8   22      185\n",
      "1574  2023  agosto     8   23       16\n",
      "1575  2023  agosto     8   24       23\n",
      "1576  2023  agosto     8   25       98\n",
      "1577  2023  agosto     8   28       73\n",
      "1578  2023  agosto     8   29      114\n",
      "1579  2023  agosto     8   30      115\n",
      "1580  2023  agosto     8   31       20\n"
     ]
    }
   ],
   "source": [
    "linhas_selecionadas = dataset.loc[(dataset['Mes'] == 'agosto') & (dataset['Ano'] == 2023)]\n",
    "print(linhas_selecionadas)"
   ]
  },
  {
   "cell_type": "code",
   "execution_count": 68,
   "metadata": {},
   "outputs": [
    {
     "name": "stdout",
     "output_type": "stream",
     "text": [
      "Mediana de Pedidos para        Ano     Mes  Mesn  Dia  Pedidos\n",
      "1558  2023  agosto     8    1      123\n",
      "1559  2023  agosto     8    2      101\n",
      "1560  2023  agosto     8    3        8\n",
      "1561  2023  agosto     8    4      109\n",
      "1562  2023  agosto     8    7       64\n",
      "1563  2023  agosto     8    8      156\n",
      "1564  2023  agosto     8    9      105\n",
      "1565  2023  agosto     8   10       11\n",
      "1566  2023  agosto     8   11      110\n",
      "1567  2023  agosto     8   14       94\n",
      "1568  2023  agosto     8   15       75\n",
      "1569  2023  agosto     8   16      104\n",
      "1570  2023  agosto     8   17       10\n",
      "1571  2023  agosto     8   18      105\n",
      "1572  2023  agosto     8   21      123\n",
      "1573  2023  agosto     8   22      185\n",
      "1574  2023  agosto     8   23       16\n",
      "1575  2023  agosto     8   24       23\n",
      "1576  2023  agosto     8   25       98\n",
      "1577  2023  agosto     8   28       73\n",
      "1578  2023  agosto     8   29      114\n",
      "1579  2023  agosto     8   30      115\n",
      "1580  2023  agosto     8   31       20 : 101.0\n"
     ]
    }
   ],
   "source": [
    "#Calculo de mediana\n",
    "mediana_pedidos = linhas_selecionadas['Pedidos'].median()\n",
    "print(\"Mediana de Pedidos para\", linhas_selecionadas, \":\", mediana_pedidos)"
   ]
  },
  {
   "cell_type": "code",
   "execution_count": null,
   "metadata": {},
   "outputs": [],
   "source": []
  }
 ],
 "metadata": {
  "kernelspec": {
   "display_name": "Python 3",
   "language": "python",
   "name": "python3"
  },
  "language_info": {
   "codemirror_mode": {
    "name": "ipython",
    "version": 3
   },
   "file_extension": ".py",
   "mimetype": "text/x-python",
   "name": "python",
   "nbconvert_exporter": "python",
   "pygments_lexer": "ipython3",
   "version": "3.11.5"
  }
 },
 "nbformat": 4,
 "nbformat_minor": 2
}
