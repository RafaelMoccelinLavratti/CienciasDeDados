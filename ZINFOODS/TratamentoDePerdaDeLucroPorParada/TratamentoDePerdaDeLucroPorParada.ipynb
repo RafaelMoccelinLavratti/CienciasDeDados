{
 "cells": [
  {
   "cell_type": "code",
   "execution_count": 12,
   "metadata": {},
   "outputs": [
    {
     "data": {
      "text/html": [
       "<div>\n",
       "<style scoped>\n",
       "    .dataframe tbody tr th:only-of-type {\n",
       "        vertical-align: middle;\n",
       "    }\n",
       "\n",
       "    .dataframe tbody tr th {\n",
       "        vertical-align: top;\n",
       "    }\n",
       "\n",
       "    .dataframe thead th {\n",
       "        text-align: right;\n",
       "    }\n",
       "</style>\n",
       "<table border=\"1\" class=\"dataframe\">\n",
       "  <thead>\n",
       "    <tr style=\"text-align: right;\">\n",
       "      <th></th>\n",
       "      <th>LocalDateTable_3c4c1d27-aba3-4e2e-8b52-c6ebec4f2aa5[Ano]</th>\n",
       "      <th>LocalDateTable_3c4c1d27-aba3-4e2e-8b52-c6ebec4f2aa5[Mês]</th>\n",
       "      <th>LocalDateTable_3c4c1d27-aba3-4e2e-8b52-c6ebec4f2aa5[MonthNo]</th>\n",
       "      <th>LocalDateTable_3c4c1d27-aba3-4e2e-8b52-c6ebec4f2aa5[Dia]</th>\n",
       "      <th>[Quantidade_Distinta_de_Pedidos]</th>\n",
       "    </tr>\n",
       "  </thead>\n",
       "  <tbody>\n",
       "    <tr>\n",
       "      <th>0</th>\n",
       "      <td>2018</td>\n",
       "      <td>janeiro</td>\n",
       "      <td>1</td>\n",
       "      <td>2</td>\n",
       "      <td>148</td>\n",
       "    </tr>\n",
       "    <tr>\n",
       "      <th>1</th>\n",
       "      <td>2018</td>\n",
       "      <td>janeiro</td>\n",
       "      <td>1</td>\n",
       "      <td>3</td>\n",
       "      <td>128</td>\n",
       "    </tr>\n",
       "    <tr>\n",
       "      <th>2</th>\n",
       "      <td>2018</td>\n",
       "      <td>janeiro</td>\n",
       "      <td>1</td>\n",
       "      <td>4</td>\n",
       "      <td>99</td>\n",
       "    </tr>\n",
       "    <tr>\n",
       "      <th>3</th>\n",
       "      <td>2018</td>\n",
       "      <td>janeiro</td>\n",
       "      <td>1</td>\n",
       "      <td>5</td>\n",
       "      <td>115</td>\n",
       "    </tr>\n",
       "    <tr>\n",
       "      <th>4</th>\n",
       "      <td>2018</td>\n",
       "      <td>janeiro</td>\n",
       "      <td>1</td>\n",
       "      <td>8</td>\n",
       "      <td>44</td>\n",
       "    </tr>\n",
       "  </tbody>\n",
       "</table>\n",
       "</div>"
      ],
      "text/plain": [
       "   LocalDateTable_3c4c1d27-aba3-4e2e-8b52-c6ebec4f2aa5[Ano]  \\\n",
       "0                                               2018          \n",
       "1                                               2018          \n",
       "2                                               2018          \n",
       "3                                               2018          \n",
       "4                                               2018          \n",
       "\n",
       "  LocalDateTable_3c4c1d27-aba3-4e2e-8b52-c6ebec4f2aa5[Mês]  \\\n",
       "0                                            janeiro         \n",
       "1                                            janeiro         \n",
       "2                                            janeiro         \n",
       "3                                            janeiro         \n",
       "4                                            janeiro         \n",
       "\n",
       "   LocalDateTable_3c4c1d27-aba3-4e2e-8b52-c6ebec4f2aa5[MonthNo]  \\\n",
       "0                                                  1              \n",
       "1                                                  1              \n",
       "2                                                  1              \n",
       "3                                                  1              \n",
       "4                                                  1              \n",
       "\n",
       "   LocalDateTable_3c4c1d27-aba3-4e2e-8b52-c6ebec4f2aa5[Dia]  \\\n",
       "0                                                  2          \n",
       "1                                                  3          \n",
       "2                                                  4          \n",
       "3                                                  5          \n",
       "4                                                  8          \n",
       "\n",
       "   [Quantidade_Distinta_de_Pedidos]  \n",
       "0                               148  \n",
       "1                               128  \n",
       "2                                99  \n",
       "3                               115  \n",
       "4                                44  "
      ]
     },
     "execution_count": 12,
     "metadata": {},
     "output_type": "execute_result"
    }
   ],
   "source": [
    "import pandas as pd \n",
    "import seaborn as srn \n",
    "import statistics as sts \n",
    "import numpy as np \n",
    "import matplotlib.pyplot as plt\n",
    "\n",
    "dataset = pd.read_csv(\"C:/Users/Rafael.M  S.I T.I/CiencasDeDados/ZINFOODS/DADOS/PedidosDia.csv\", sep = \";\")\n",
    "dataset.head()\n"
   ]
  },
  {
   "cell_type": "code",
   "execution_count": 13,
   "metadata": {},
   "outputs": [
    {
     "data": {
      "text/plain": [
       "(1470, 5)"
      ]
     },
     "execution_count": 13,
     "metadata": {},
     "output_type": "execute_result"
    }
   ],
   "source": [
    "dataset.shape"
   ]
  },
  {
   "cell_type": "code",
   "execution_count": 15,
   "metadata": {},
   "outputs": [
    {
     "data": {
      "text/html": [
       "<div>\n",
       "<style scoped>\n",
       "    .dataframe tbody tr th:only-of-type {\n",
       "        vertical-align: middle;\n",
       "    }\n",
       "\n",
       "    .dataframe tbody tr th {\n",
       "        vertical-align: top;\n",
       "    }\n",
       "\n",
       "    .dataframe thead th {\n",
       "        text-align: right;\n",
       "    }\n",
       "</style>\n",
       "<table border=\"1\" class=\"dataframe\">\n",
       "  <thead>\n",
       "    <tr style=\"text-align: right;\">\n",
       "      <th></th>\n",
       "      <th>Ano</th>\n",
       "      <th>Mes</th>\n",
       "      <th>Mesn</th>\n",
       "      <th>Dia</th>\n",
       "      <th>Pedidos</th>\n",
       "    </tr>\n",
       "  </thead>\n",
       "  <tbody>\n",
       "    <tr>\n",
       "      <th>0</th>\n",
       "      <td>2018</td>\n",
       "      <td>janeiro</td>\n",
       "      <td>1</td>\n",
       "      <td>2</td>\n",
       "      <td>148</td>\n",
       "    </tr>\n",
       "    <tr>\n",
       "      <th>1</th>\n",
       "      <td>2018</td>\n",
       "      <td>janeiro</td>\n",
       "      <td>1</td>\n",
       "      <td>3</td>\n",
       "      <td>128</td>\n",
       "    </tr>\n",
       "    <tr>\n",
       "      <th>2</th>\n",
       "      <td>2018</td>\n",
       "      <td>janeiro</td>\n",
       "      <td>1</td>\n",
       "      <td>4</td>\n",
       "      <td>99</td>\n",
       "    </tr>\n",
       "    <tr>\n",
       "      <th>3</th>\n",
       "      <td>2018</td>\n",
       "      <td>janeiro</td>\n",
       "      <td>1</td>\n",
       "      <td>5</td>\n",
       "      <td>115</td>\n",
       "    </tr>\n",
       "    <tr>\n",
       "      <th>4</th>\n",
       "      <td>2018</td>\n",
       "      <td>janeiro</td>\n",
       "      <td>1</td>\n",
       "      <td>8</td>\n",
       "      <td>44</td>\n",
       "    </tr>\n",
       "  </tbody>\n",
       "</table>\n",
       "</div>"
      ],
      "text/plain": [
       "    Ano      Mes  Mesn  Dia  Pedidos\n",
       "0  2018  janeiro     1    2      148\n",
       "1  2018  janeiro     1    3      128\n",
       "2  2018  janeiro     1    4       99\n",
       "3  2018  janeiro     1    5      115\n",
       "4  2018  janeiro     1    8       44"
      ]
     },
     "execution_count": 15,
     "metadata": {},
     "output_type": "execute_result"
    }
   ],
   "source": [
    "dataset.columns = [\"Ano\",\"Mes\",\"Mesn\",\"Dia\",\"Pedidos\"]\n",
    "dataset.head()"
   ]
  },
  {
   "cell_type": "code",
   "execution_count": 16,
   "metadata": {},
   "outputs": [
    {
     "name": "stdout",
     "output_type": "stream",
     "text": [
      "       Ano     Mes  Mesn  Dia  Pedidos\n",
      "147   2018  agosto     8    1       21\n",
      "148   2018  agosto     8    2       83\n",
      "149   2018  agosto     8    3       78\n",
      "150   2018  agosto     8    6       83\n",
      "151   2018  agosto     8    7      128\n",
      "...    ...     ...   ...  ...      ...\n",
      "1420  2023  agosto     8   25      100\n",
      "1421  2023  agosto     8   28       66\n",
      "1422  2023  agosto     8   29       99\n",
      "1423  2023  agosto     8   30      137\n",
      "1424  2023  agosto     8   31       19\n",
      "\n",
      "[134 rows x 5 columns]\n"
     ]
    }
   ],
   "source": [
    "#fILTRO a partir de nome\n",
    "mes = ['agosto']\n",
    "linhas_selecionadas = dataset.loc[dataset['Mes'].isin(mes)]\n",
    "print(linhas_selecionadas)"
   ]
  },
  {
   "cell_type": "code",
   "execution_count": 17,
   "metadata": {},
   "outputs": [
    {
     "name": "stdout",
     "output_type": "stream",
     "text": [
      "       Ano     Mes  Mesn  Dia  Pedidos\n",
      "1402  2023  agosto     8    1      102\n",
      "1403  2023  agosto     8    2      124\n",
      "1404  2023  agosto     8    3        9\n",
      "1405  2023  agosto     8    4      110\n",
      "1406  2023  agosto     8    7       62\n",
      "1407  2023  agosto     8    8      136\n",
      "1408  2023  agosto     8    9      127\n",
      "1409  2023  agosto     8   10       11\n",
      "1410  2023  agosto     8   11      110\n",
      "1411  2023  agosto     8   14       88\n",
      "1412  2023  agosto     8   15       80\n",
      "1413  2023  agosto     8   16      105\n",
      "1414  2023  agosto     8   17        7\n",
      "1415  2023  agosto     8   18      108\n",
      "1416  2023  agosto     8   21      120\n",
      "1417  2023  agosto     8   22      169\n",
      "1418  2023  agosto     8   23       35\n",
      "1419  2023  agosto     8   24       21\n",
      "1420  2023  agosto     8   25      100\n",
      "1421  2023  agosto     8   28       66\n",
      "1422  2023  agosto     8   29       99\n",
      "1423  2023  agosto     8   30      137\n",
      "1424  2023  agosto     8   31       19\n"
     ]
    }
   ],
   "source": [
    "linhas_selecionadas = dataset.loc[(dataset['Mes'] == 'agosto') & (dataset['Ano'] == 2023)]\n",
    "print(linhas_selecionadas)"
   ]
  },
  {
   "cell_type": "code",
   "execution_count": 18,
   "metadata": {},
   "outputs": [
    {
     "name": "stdout",
     "output_type": "stream",
     "text": [
      "Mediana de Pedidos em agosto        Ano     Mes  Mesn  Dia  Pedidos\n",
      "1402  2023  agosto     8    1      102\n",
      "1403  2023  agosto     8    2      124\n",
      "1404  2023  agosto     8    3        9\n",
      "1405  2023  agosto     8    4      110\n",
      "1406  2023  agosto     8    7       62\n",
      "1407  2023  agosto     8    8      136\n",
      "1408  2023  agosto     8    9      127\n",
      "1409  2023  agosto     8   10       11\n",
      "1410  2023  agosto     8   11      110\n",
      "1411  2023  agosto     8   14       88\n",
      "1412  2023  agosto     8   15       80\n",
      "1413  2023  agosto     8   16      105\n",
      "1414  2023  agosto     8   17        7\n",
      "1415  2023  agosto     8   18      108\n",
      "1416  2023  agosto     8   21      120\n",
      "1417  2023  agosto     8   22      169\n",
      "1418  2023  agosto     8   23       35\n",
      "1419  2023  agosto     8   24       21\n",
      "1420  2023  agosto     8   25      100\n",
      "1421  2023  agosto     8   28       66\n",
      "1422  2023  agosto     8   29       99\n",
      "1423  2023  agosto     8   30      137\n",
      "1424  2023  agosto     8   31       19 : 100.0\n"
     ]
    }
   ],
   "source": [
    "#Calculo de mediana\n",
    "mediana_pedidos = linhas_selecionadas['Pedidos'].median()\n",
    "print(\"Mediana de Pedidos em agosto\", linhas_selecionadas, \":\", mediana_pedidos)\n"
   ]
  },
  {
   "cell_type": "code",
   "execution_count": null,
   "metadata": {},
   "outputs": [],
   "source": []
  },
  {
   "cell_type": "code",
   "execution_count": 19,
   "metadata": {},
   "outputs": [
    {
     "data": {
      "image/png": "[encoded data removed]",
      "text/plain": [
       "<Figure size 640x480 with 1 Axes>"
      ]
     },
     "metadata": {},
     "output_type": "display_data"
    }
   ],
   "source": [
    "import matplotlib.pyplot as plt\n",
    "dias =  [1, 2, 3, 4, 7, 8, 9, 10, 11, 14, 15, 16, 17, 18, 21, 22, 23, 24, 25, 28, 29, 30, 31]\n",
    "pedidos = [102, 124, 9, 110, 62, 136, 127, 11, 110, 88, 80, 105, 7, 108, 120, 169, 35, 21, 100, 66, 99, 137, 19] \n",
    "plt.bar(dias, pedidos, color='green')\n",
    "plt.title(\"Pedidos por dia no mês de Agosto\")\n",
    "plt.ylabel(\"Dias\")\n",
    "plt.show()"
   ]
  },
  {
   "cell_type": "code",
   "execution_count": null,
   "metadata": {},
   "outputs": [],
   "source": []
  }
 ],
 "metadata": {
  "kernelspec": {
   "display_name": "Python 3",
   "language": "python",
   "name": "python3"
  },
  "language_info": {
   "codemirror_mode": {
    "name": "ipython",
    "version": 3
   },
   "file_extension": ".py",
   "mimetype": "text/x-python",
   "name": "python",
   "nbconvert_exporter": "python",
   "pygments_lexer": "ipython3",
   "version": "3.11.5"
  }
 },
 "nbformat": 4,
 "nbformat_minor": 2
}
