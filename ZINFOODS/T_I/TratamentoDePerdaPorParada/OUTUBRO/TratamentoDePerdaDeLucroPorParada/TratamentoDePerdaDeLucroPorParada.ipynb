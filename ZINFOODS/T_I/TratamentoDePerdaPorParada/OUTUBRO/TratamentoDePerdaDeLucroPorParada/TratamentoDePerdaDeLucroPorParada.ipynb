{
 "cells": [
  {
   "cell_type": "code",
   "execution_count": 1,
   "metadata": {},
   "outputs": [
    {
     "data": {
      "text/html": [
       "<div>\n",
       "<style scoped>\n",
       "    .dataframe tbody tr th:only-of-type {\n",
       "        vertical-align: middle;\n",
       "    }\n",
       "\n",
       "    .dataframe tbody tr th {\n",
       "        vertical-align: top;\n",
       "    }\n",
       "\n",
       "    .dataframe thead th {\n",
       "        text-align: right;\n",
       "    }\n",
       "</style>\n",
       "<table border=\"1\" class=\"dataframe\">\n",
       "  <thead>\n",
       "    <tr style=\"text-align: right;\">\n",
       "      <th></th>\n",
       "      <th>LocalDateTable_3c4c1d27-aba3-4e2e-8b52-c6ebec4f2aa5[Ano]</th>\n",
       "      <th>LocalDateTable_3c4c1d27-aba3-4e2e-8b52-c6ebec4f2aa5[Mês]</th>\n",
       "      <th>LocalDateTable_3c4c1d27-aba3-4e2e-8b52-c6ebec4f2aa5[MonthNo]</th>\n",
       "      <th>LocalDateTable_3c4c1d27-aba3-4e2e-8b52-c6ebec4f2aa5[Dia]</th>\n",
       "      <th>[Quantidade_Distinta_de_Pedidos]</th>\n",
       "    </tr>\n",
       "  </thead>\n",
       "  <tbody>\n",
       "    <tr>\n",
       "      <th>0</th>\n",
       "      <td>2018</td>\n",
       "      <td>janeiro</td>\n",
       "      <td>1</td>\n",
       "      <td>2</td>\n",
       "      <td>148</td>\n",
       "    </tr>\n",
       "    <tr>\n",
       "      <th>1</th>\n",
       "      <td>2018</td>\n",
       "      <td>janeiro</td>\n",
       "      <td>1</td>\n",
       "      <td>3</td>\n",
       "      <td>128</td>\n",
       "    </tr>\n",
       "    <tr>\n",
       "      <th>2</th>\n",
       "      <td>2018</td>\n",
       "      <td>janeiro</td>\n",
       "      <td>1</td>\n",
       "      <td>4</td>\n",
       "      <td>99</td>\n",
       "    </tr>\n",
       "    <tr>\n",
       "      <th>3</th>\n",
       "      <td>2018</td>\n",
       "      <td>janeiro</td>\n",
       "      <td>1</td>\n",
       "      <td>5</td>\n",
       "      <td>115</td>\n",
       "    </tr>\n",
       "    <tr>\n",
       "      <th>4</th>\n",
       "      <td>2018</td>\n",
       "      <td>janeiro</td>\n",
       "      <td>1</td>\n",
       "      <td>8</td>\n",
       "      <td>44</td>\n",
       "    </tr>\n",
       "  </tbody>\n",
       "</table>\n",
       "</div>"
      ],
      "text/plain": [
       "   LocalDateTable_3c4c1d27-aba3-4e2e-8b52-c6ebec4f2aa5[Ano]  \\\n",
       "0                                               2018          \n",
       "1                                               2018          \n",
       "2                                               2018          \n",
       "3                                               2018          \n",
       "4                                               2018          \n",
       "\n",
       "  LocalDateTable_3c4c1d27-aba3-4e2e-8b52-c6ebec4f2aa5[Mês]  \\\n",
       "0                                            janeiro         \n",
       "1                                            janeiro         \n",
       "2                                            janeiro         \n",
       "3                                            janeiro         \n",
       "4                                            janeiro         \n",
       "\n",
       "   LocalDateTable_3c4c1d27-aba3-4e2e-8b52-c6ebec4f2aa5[MonthNo]  \\\n",
       "0                                                  1              \n",
       "1                                                  1              \n",
       "2                                                  1              \n",
       "3                                                  1              \n",
       "4                                                  1              \n",
       "\n",
       "   LocalDateTable_3c4c1d27-aba3-4e2e-8b52-c6ebec4f2aa5[Dia]  \\\n",
       "0                                                  2          \n",
       "1                                                  3          \n",
       "2                                                  4          \n",
       "3                                                  5          \n",
       "4                                                  8          \n",
       "\n",
       "   [Quantidade_Distinta_de_Pedidos]  \n",
       "0                               148  \n",
       "1                               128  \n",
       "2                                99  \n",
       "3                               115  \n",
       "4                                44  "
      ]
     },
     "execution_count": 1,
     "metadata": {},
     "output_type": "execute_result"
    }
   ],
   "source": [
    "import pandas as pd \n",
    "import seaborn as srn \n",
    "import statistics as sts \n",
    "import numpy as np \n",
    "import matplotlib.pyplot as plt\n",
    "\n",
    "dataset = pd.read_csv(\"C:/Users/Rafael.M  S.I T.I/CiencasDeDados/ZINFOODS/DADOS/ANALISE_DE_PERDA_POR_PARADA/SETEMBRO/PedidosDia.csv\", sep = \";\")\n",
    "dataset.head()\n"
   ]
  },
  {
   "cell_type": "code",
   "execution_count": 2,
   "metadata": {},
   "outputs": [
    {
     "data": {
      "text/plain": [
       "(1474, 5)"
      ]
     },
     "execution_count": 2,
     "metadata": {},
     "output_type": "execute_result"
    }
   ],
   "source": [
    "dataset.shape"
   ]
  },
  {
   "cell_type": "code",
   "execution_count": 3,
   "metadata": {},
   "outputs": [
    {
     "data": {
      "text/html": [
       "<div>\n",
       "<style scoped>\n",
       "    .dataframe tbody tr th:only-of-type {\n",
       "        vertical-align: middle;\n",
       "    }\n",
       "\n",
       "    .dataframe tbody tr th {\n",
       "        vertical-align: top;\n",
       "    }\n",
       "\n",
       "    .dataframe thead th {\n",
       "        text-align: right;\n",
       "    }\n",
       "</style>\n",
       "<table border=\"1\" class=\"dataframe\">\n",
       "  <thead>\n",
       "    <tr style=\"text-align: right;\">\n",
       "      <th></th>\n",
       "      <th>Ano</th>\n",
       "      <th>Mes</th>\n",
       "      <th>Mesn</th>\n",
       "      <th>Dia</th>\n",
       "      <th>Pedidos</th>\n",
       "    </tr>\n",
       "  </thead>\n",
       "  <tbody>\n",
       "    <tr>\n",
       "      <th>0</th>\n",
       "      <td>2018</td>\n",
       "      <td>janeiro</td>\n",
       "      <td>1</td>\n",
       "      <td>2</td>\n",
       "      <td>148</td>\n",
       "    </tr>\n",
       "    <tr>\n",
       "      <th>1</th>\n",
       "      <td>2018</td>\n",
       "      <td>janeiro</td>\n",
       "      <td>1</td>\n",
       "      <td>3</td>\n",
       "      <td>128</td>\n",
       "    </tr>\n",
       "    <tr>\n",
       "      <th>2</th>\n",
       "      <td>2018</td>\n",
       "      <td>janeiro</td>\n",
       "      <td>1</td>\n",
       "      <td>4</td>\n",
       "      <td>99</td>\n",
       "    </tr>\n",
       "    <tr>\n",
       "      <th>3</th>\n",
       "      <td>2018</td>\n",
       "      <td>janeiro</td>\n",
       "      <td>1</td>\n",
       "      <td>5</td>\n",
       "      <td>115</td>\n",
       "    </tr>\n",
       "    <tr>\n",
       "      <th>4</th>\n",
       "      <td>2018</td>\n",
       "      <td>janeiro</td>\n",
       "      <td>1</td>\n",
       "      <td>8</td>\n",
       "      <td>44</td>\n",
       "    </tr>\n",
       "  </tbody>\n",
       "</table>\n",
       "</div>"
      ],
      "text/plain": [
       "    Ano      Mes  Mesn  Dia  Pedidos\n",
       "0  2018  janeiro     1    2      148\n",
       "1  2018  janeiro     1    3      128\n",
       "2  2018  janeiro     1    4       99\n",
       "3  2018  janeiro     1    5      115\n",
       "4  2018  janeiro     1    8       44"
      ]
     },
     "execution_count": 3,
     "metadata": {},
     "output_type": "execute_result"
    }
   ],
   "source": [
    "dataset.columns = [\"Ano\",\"Mes\",\"Mesn\",\"Dia\",\"Pedidos\"]\n",
    "dataset.head()"
   ]
  },
  {
   "cell_type": "code",
   "execution_count": 5,
   "metadata": {},
   "outputs": [
    {
     "name": "stdout",
     "output_type": "stream",
     "text": [
      "       Ano      Mes  Mesn  Dia  Pedidos\n",
      "188   2018  outubro    10    1       61\n",
      "189   2018  outubro    10    2      142\n",
      "190   2018  outubro    10    3      115\n",
      "191   2018  outubro    10    4       81\n",
      "192   2018  outubro    10    5      102\n",
      "...    ...      ...   ...  ...      ...\n",
      "1460  2023  outubro    10   25      135\n",
      "1461  2023  outubro    10   26       16\n",
      "1462  2023  outubro    10   27      123\n",
      "1463  2023  outubro    10   30      115\n",
      "1464  2023  outubro    10   31       96\n",
      "\n",
      "[127 rows x 5 columns]\n"
     ]
    }
   ],
   "source": [
    "#fILTRO a partir de nome\n",
    "mes = ['outubro']\n",
    "linhas_selecionadas = dataset.loc[dataset['Mes'].isin(mes)]\n",
    "print(linhas_selecionadas)"
   ]
  },
  {
   "cell_type": "code",
   "execution_count": 6,
   "metadata": {},
   "outputs": [
    {
     "name": "stdout",
     "output_type": "stream",
     "text": [
      "       Ano      Mes  Mesn  Dia  Pedidos\n",
      "1444  2023  outubro    10    2       61\n",
      "1445  2023  outubro    10    3       90\n",
      "1446  2023  outubro    10    4      112\n",
      "1447  2023  outubro    10    5       19\n",
      "1448  2023  outubro    10    6      108\n",
      "1449  2023  outubro    10    9      108\n",
      "1450  2023  outubro    10   10      106\n",
      "1451  2023  outubro    10   11       84\n",
      "1452  2023  outubro    10   13      101\n",
      "1453  2023  outubro    10   16      116\n",
      "1454  2023  outubro    10   17       88\n",
      "1455  2023  outubro    10   18      134\n",
      "1456  2023  outubro    10   19        8\n",
      "1457  2023  outubro    10   20      106\n",
      "1458  2023  outubro    10   23       81\n",
      "1459  2023  outubro    10   24       84\n",
      "1460  2023  outubro    10   25      135\n",
      "1461  2023  outubro    10   26       16\n",
      "1462  2023  outubro    10   27      123\n",
      "1463  2023  outubro    10   30      115\n",
      "1464  2023  outubro    10   31       96\n"
     ]
    }
   ],
   "source": [
    "linhas_selecionadas = dataset.loc[(dataset['Mes'] == 'outubro') & (dataset['Ano'] == 2023)]\n",
    "print(linhas_selecionadas)"
   ]
  },
  {
   "cell_type": "code",
   "execution_count": 7,
   "metadata": {},
   "outputs": [
    {
     "name": "stdout",
     "output_type": "stream",
     "text": [
      "Mediana de Pedidos em agosto        Ano      Mes  Mesn  Dia  Pedidos\n",
      "1444  2023  outubro    10    2       61\n",
      "1445  2023  outubro    10    3       90\n",
      "1446  2023  outubro    10    4      112\n",
      "1447  2023  outubro    10    5       19\n",
      "1448  2023  outubro    10    6      108\n",
      "1449  2023  outubro    10    9      108\n",
      "1450  2023  outubro    10   10      106\n",
      "1451  2023  outubro    10   11       84\n",
      "1452  2023  outubro    10   13      101\n",
      "1453  2023  outubro    10   16      116\n",
      "1454  2023  outubro    10   17       88\n",
      "1455  2023  outubro    10   18      134\n",
      "1456  2023  outubro    10   19        8\n",
      "1457  2023  outubro    10   20      106\n",
      "1458  2023  outubro    10   23       81\n",
      "1459  2023  outubro    10   24       84\n",
      "1460  2023  outubro    10   25      135\n",
      "1461  2023  outubro    10   26       16\n",
      "1462  2023  outubro    10   27      123\n",
      "1463  2023  outubro    10   30      115\n",
      "1464  2023  outubro    10   31       96 : 101.0\n"
     ]
    }
   ],
   "source": [
    "#Calculo de mediana\n",
    "mediana_pedidos = linhas_selecionadas['Pedidos'].median()\n",
    "print(\"Mediana de Pedidos em agosto\", linhas_selecionadas, \":\", mediana_pedidos)\n"
   ]
  },
  {
   "cell_type": "code",
   "execution_count": null,
   "metadata": {},
   "outputs": [],
   "source": []
  },
  {
   "cell_type": "code",
   "execution_count": 12,
   "metadata": {},
   "outputs": [
    {
     "data": {
      "image/png": "[encoded data removed]",
      "text/plain": [
       "<Figure size 640x480 with 1 Axes>"
      ]
     },
     "metadata": {},
     "output_type": "display_data"
    }
   ],
   "source": [
    "import matplotlib.pyplot as plt\n",
    "dias =  [2, 3, 4, 5, 6, 9, 10, 11, 13, 16, 17, 18, 19, 20, 23, 24, 25, 26, 27, 30, 31]\n",
    "pedidos = [61, 90, 112, 19, 108, 108, 106, 84, 101, 116, 88, 134, 8, 106, 81, 84, 135, 16, 123, 115, 96] \n",
    "plt.bar(dias, pedidos, color='green')\n",
    "plt.title(\"Pedidos por dia no mês de Outubro\")\n",
    "plt.ylabel(\"Dias\")\n",
    "plt.show()"
   ]
  },
  {
   "cell_type": "code",
   "execution_count": null,
   "metadata": {},
   "outputs": [],
   "source": []
  }
 ],
 "metadata": {
  "kernelspec": {
   "display_name": "Python 3",
   "language": "python",
   "name": "python3"
  },
  "language_info": {
   "codemirror_mode": {
    "name": "ipython",
    "version": 3
   },
   "file_extension": ".py",
   "mimetype": "text/x-python",
   "name": "python",
   "nbconvert_exporter": "python",
   "pygments_lexer": "ipython3",
   "version": "3.11.5"
  }
 },
 "nbformat": 4,
 "nbformat_minor": 2
}
