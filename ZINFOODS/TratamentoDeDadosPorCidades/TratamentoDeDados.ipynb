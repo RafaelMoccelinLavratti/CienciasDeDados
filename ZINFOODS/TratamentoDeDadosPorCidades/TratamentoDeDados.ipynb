{
 "cells": [
  {
   "cell_type": "code",
   "execution_count": 1,
   "metadata": {},
   "outputs": [
    {
     "data": {
      "text/html": [
       "<div>\n",
       "<style scoped>\n",
       "    .dataframe tbody tr th:only-of-type {\n",
       "        vertical-align: middle;\n",
       "    }\n",
       "\n",
       "    .dataframe tbody tr th {\n",
       "        vertical-align: top;\n",
       "    }\n",
       "\n",
       "    .dataframe thead th {\n",
       "        text-align: right;\n",
       "    }\n",
       "</style>\n",
       "<table border=\"1\" class=\"dataframe\">\n",
       "  <thead>\n",
       "    <tr style=\"text-align: right;\">\n",
       "      <th></th>\n",
       "      <th>Cidade[Cidade]</th>\n",
       "      <th>[Quantidade_Distinta_de_Pedidos]</th>\n",
       "    </tr>\n",
       "  </thead>\n",
       "  <tbody>\n",
       "    <tr>\n",
       "      <th>0</th>\n",
       "      <td>Porto Alegre</td>\n",
       "      <td>51491</td>\n",
       "    </tr>\n",
       "    <tr>\n",
       "      <th>1</th>\n",
       "      <td>São Paulo</td>\n",
       "      <td>16632</td>\n",
       "    </tr>\n",
       "    <tr>\n",
       "      <th>2</th>\n",
       "      <td>Passo Fundo</td>\n",
       "      <td>8312</td>\n",
       "    </tr>\n",
       "    <tr>\n",
       "      <th>3</th>\n",
       "      <td>Caxias do Sul</td>\n",
       "      <td>6664</td>\n",
       "    </tr>\n",
       "    <tr>\n",
       "      <th>4</th>\n",
       "      <td>Canoas</td>\n",
       "      <td>4961</td>\n",
       "    </tr>\n",
       "  </tbody>\n",
       "</table>\n",
       "</div>"
      ],
      "text/plain": [
       "  Cidade[Cidade]  [Quantidade_Distinta_de_Pedidos]\n",
       "0   Porto Alegre                             51491\n",
       "1      São Paulo                             16632\n",
       "2    Passo Fundo                              8312\n",
       "3  Caxias do Sul                              6664\n",
       "4         Canoas                              4961"
      ]
     },
     "execution_count": 1,
     "metadata": {},
     "output_type": "execute_result"
    }
   ],
   "source": [
    "import pandas as pd \n",
    "import seaborn as srn \n",
    "import statistics as sts \n",
    "import numpy as np \n",
    "\n",
    "dataset = pd.read_csv(\"C:/Users/Rafael.M  S.I T.I/CiencasDeDados/ZINFOODS/DADOS/CidadesPorProduto.csv\", sep=\";\")\n",
    "dataset.head()"
   ]
  },
  {
   "cell_type": "code",
   "execution_count": 14,
   "metadata": {},
   "outputs": [
    {
     "data": {
      "text/plain": [
       "(214, 2)"
      ]
     },
     "execution_count": 14,
     "metadata": {},
     "output_type": "execute_result"
    }
   ],
   "source": [
    "dataset.shape"
   ]
  },
  {
   "cell_type": "code",
   "execution_count": 15,
   "metadata": {},
   "outputs": [
    {
     "data": {
      "text/html": [
       "<div>\n",
       "<style scoped>\n",
       "    .dataframe tbody tr th:only-of-type {\n",
       "        vertical-align: middle;\n",
       "    }\n",
       "\n",
       "    .dataframe tbody tr th {\n",
       "        vertical-align: top;\n",
       "    }\n",
       "\n",
       "    .dataframe thead th {\n",
       "        text-align: right;\n",
       "    }\n",
       "</style>\n",
       "<table border=\"1\" class=\"dataframe\">\n",
       "  <thead>\n",
       "    <tr style=\"text-align: right;\">\n",
       "      <th></th>\n",
       "      <th>Cidade</th>\n",
       "      <th>Pedidos</th>\n",
       "    </tr>\n",
       "  </thead>\n",
       "  <tbody>\n",
       "    <tr>\n",
       "      <th>0</th>\n",
       "      <td>Porto Alegre</td>\n",
       "      <td>51491</td>\n",
       "    </tr>\n",
       "    <tr>\n",
       "      <th>1</th>\n",
       "      <td>São Paulo</td>\n",
       "      <td>16654</td>\n",
       "    </tr>\n",
       "    <tr>\n",
       "      <th>2</th>\n",
       "      <td>Passo Fundo</td>\n",
       "      <td>8312</td>\n",
       "    </tr>\n",
       "    <tr>\n",
       "      <th>3</th>\n",
       "      <td>Caxias do Sul</td>\n",
       "      <td>6664</td>\n",
       "    </tr>\n",
       "    <tr>\n",
       "      <th>4</th>\n",
       "      <td>Canoas</td>\n",
       "      <td>4961</td>\n",
       "    </tr>\n",
       "  </tbody>\n",
       "</table>\n",
       "</div>"
      ],
      "text/plain": [
       "          Cidade  Pedidos\n",
       "0   Porto Alegre    51491\n",
       "1      São Paulo    16654\n",
       "2    Passo Fundo     8312\n",
       "3  Caxias do Sul     6664\n",
       "4         Canoas     4961"
      ]
     },
     "execution_count": 15,
     "metadata": {},
     "output_type": "execute_result"
    }
   ],
   "source": [
    "dataset.columns = [\"Cidade\" , \"Pedidos\"] \n",
    "dataset.head()"
   ]
  },
  {
   "cell_type": "code",
   "execution_count": 16,
   "metadata": {},
   "outputs": [
    {
     "data": {
      "text/plain": [
       "<bound method NDFrame.describe of                Cidade  Pedidos\n",
       "0        Porto Alegre    51491\n",
       "1           São Paulo    16654\n",
       "2         Passo Fundo     8312\n",
       "3       Caxias do Sul     6664\n",
       "4              Canoas     4961\n",
       "..                ...      ...\n",
       "209  Pontal do Paraná        1\n",
       "210        Pouso Novo        1\n",
       "211           Taubaté        1\n",
       "212    Três Palmeiras        1\n",
       "213       Três Passos        1\n",
       "\n",
       "[214 rows x 2 columns]>"
      ]
     },
     "execution_count": 16,
     "metadata": {},
     "output_type": "execute_result"
    }
   ],
   "source": [
    "dataset.describe"
   ]
  },
  {
   "cell_type": "code",
   "execution_count": 17,
   "metadata": {},
   "outputs": [
    {
     "data": {
      "text/plain": [
       "Cidade\n",
       "Almirante Tamandaré    1\n",
       "Alvorada               1\n",
       "Aratiba                1\n",
       "Araucária              1\n",
       "Arroio do Meio         1\n",
       "                      ..\n",
       "Xangri-lá              1\n",
       "Xanxerê                1\n",
       "Xaxim                  1\n",
       "Água Santa             1\n",
       "Águas de Chapecó       1\n",
       "Length: 214, dtype: int64"
      ]
     },
     "execution_count": 17,
     "metadata": {},
     "output_type": "execute_result"
    }
   ],
   "source": [
    "zinfoods = dataset.groupby(['Cidade']).size()\n",
    "zinfoods"
   ]
  },
  {
   "cell_type": "code",
   "execution_count": 18,
   "metadata": {},
   "outputs": [
    {
     "name": "stdout",
     "output_type": "stream",
     "text": [
      "0          Porto Alegre\n",
      "1             São Paulo\n",
      "2           Passo Fundo\n",
      "3         Caxias do Sul\n",
      "4                Canoas\n",
      "             ...       \n",
      "209    Pontal do Paraná\n",
      "210          Pouso Novo\n",
      "211             Taubaté\n",
      "212      Três Palmeiras\n",
      "213         Três Passos\n",
      "Name: Cidade, Length: 214, dtype: object\n"
     ]
    }
   ],
   "source": [
    "coluna_nome = dataset['Cidade']\n",
    "\n",
    "print(coluna_nome)"
   ]
  }
 ],
 "metadata": {
  "kernelspec": {
   "display_name": "Python 3",
   "language": "python",
   "name": "python3"
  },
  "language_info": {
   "codemirror_mode": {
    "name": "ipython",
    "version": 3
   },
   "file_extension": ".py",
   "mimetype": "text/x-python",
   "name": "python",
   "nbconvert_exporter": "python",
   "pygments_lexer": "ipython3",
   "version": "3.11.5"
  }
 },
 "nbformat": 4,
 "nbformat_minor": 2
}
