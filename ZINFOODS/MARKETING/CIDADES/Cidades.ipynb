{
 "cells": [
  {
   "cell_type": "code",
   "execution_count": null,
   "metadata": {},
   "outputs": [],
   "source": [
    "import pandas as pd\n",
    "import seaborn as sns\n",
    "import matplotlib.pyplot as plt \n",
    "import numpy as np\n",
    "\n",
    "# Importar bibliotecas necessárias\n",
    "\n",
    "# Ler o arquivo de dados\n",
    "dados = pd.read_csv('caminho/do/arquivo.csv')\n",
    "\n",
    "# Visualizar as primeiras linhas do dataframe\n",
    "print(dados.head())\n",
    "\n"
   ]
  }
 ],
 "metadata": {
  "language_info": {
   "name": "python"
  }
 },
 "nbformat": 4,
 "nbformat_minor": 2
}
