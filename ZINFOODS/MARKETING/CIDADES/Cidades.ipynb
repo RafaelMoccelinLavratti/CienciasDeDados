{
 "cells": [
  {
   "cell_type": "code",
   "execution_count": 19,
   "metadata": {},
   "outputs": [
    {
     "data": {
      "text/html": [
       "<div>\n",
       "<style scoped>\n",
       "    .dataframe tbody tr th:only-of-type {\n",
       "        vertical-align: middle;\n",
       "    }\n",
       "\n",
       "    .dataframe tbody tr th {\n",
       "        vertical-align: top;\n",
       "    }\n",
       "\n",
       "    .dataframe thead th {\n",
       "        text-align: right;\n",
       "    }\n",
       "</style>\n",
       "<table border=\"1\" class=\"dataframe\">\n",
       "  <thead>\n",
       "    <tr style=\"text-align: right;\">\n",
       "      <th></th>\n",
       "      <th>Cidades[Cidade]</th>\n",
       "      <th>LocalDateTable_ba934b29-0be9-45fc-a5b6-a2a0bace3d1b[Ano]</th>\n",
       "      <th>[MinUF]</th>\n",
       "    </tr>\n",
       "  </thead>\n",
       "  <tbody>\n",
       "    <tr>\n",
       "      <th>0</th>\n",
       "      <td>Alvorada</td>\n",
       "      <td>2023</td>\n",
       "      <td>RS</td>\n",
       "    </tr>\n",
       "    <tr>\n",
       "      <th>1</th>\n",
       "      <td>Aratiba</td>\n",
       "      <td>2023</td>\n",
       "      <td>RS</td>\n",
       "    </tr>\n",
       "    <tr>\n",
       "      <th>2</th>\n",
       "      <td>Arroio do Meio</td>\n",
       "      <td>2023</td>\n",
       "      <td>RS</td>\n",
       "    </tr>\n",
       "    <tr>\n",
       "      <th>3</th>\n",
       "      <td>Arroio dos Ratos</td>\n",
       "      <td>2023</td>\n",
       "      <td>RS</td>\n",
       "    </tr>\n",
       "    <tr>\n",
       "      <th>4</th>\n",
       "      <td>Arujá</td>\n",
       "      <td>2023</td>\n",
       "      <td>SP</td>\n",
       "    </tr>\n",
       "  </tbody>\n",
       "</table>\n",
       "</div>"
      ],
      "text/plain": [
       "    Cidades[Cidade]  LocalDateTable_ba934b29-0be9-45fc-a5b6-a2a0bace3d1b[Ano]  \\\n",
       "0          Alvorada                                               2023          \n",
       "1           Aratiba                                               2023          \n",
       "2    Arroio do Meio                                               2023          \n",
       "3  Arroio dos Ratos                                               2023          \n",
       "4             Arujá                                               2023          \n",
       "\n",
       "  [MinUF]  \n",
       "0      RS  \n",
       "1      RS  \n",
       "2      RS  \n",
       "3      RS  \n",
       "4      SP  "
      ]
     },
     "execution_count": 19,
     "metadata": {},
     "output_type": "execute_result"
    }
   ],
   "source": [
    "import pandas as pd \n",
    "import seaborn as srn \n",
    "import statistics as sts \n",
    "import numpy as np \n",
    "\n",
    "dataset = pd.read_csv(\"C:/Users/Rafael.M  S.I T.I/CiencasDeDados/ZINFOODS/DADOS/CidadesMKT.csv\", sep = \";\")\n",
    "dataset.head()\n"
   ]
  },
  {
   "cell_type": "code",
   "execution_count": 13,
   "metadata": {},
   "outputs": [
    {
     "data": {
      "text/plain": [
       "(5308, 3)"
      ]
     },
     "execution_count": 13,
     "metadata": {},
     "output_type": "execute_result"
    }
   ],
   "source": [
    "dataset.shape"
   ]
  },
  {
   "cell_type": "code",
   "execution_count": 20,
   "metadata": {},
   "outputs": [
    {
     "data": {
      "text/html": [
       "<div>\n",
       "<style scoped>\n",
       "    .dataframe tbody tr th:only-of-type {\n",
       "        vertical-align: middle;\n",
       "    }\n",
       "\n",
       "    .dataframe tbody tr th {\n",
       "        vertical-align: top;\n",
       "    }\n",
       "\n",
       "    .dataframe thead th {\n",
       "        text-align: right;\n",
       "    }\n",
       "</style>\n",
       "<table border=\"1\" class=\"dataframe\">\n",
       "  <thead>\n",
       "    <tr style=\"text-align: right;\">\n",
       "      <th></th>\n",
       "      <th>Cidades</th>\n",
       "      <th>Ano</th>\n",
       "      <th>UF</th>\n",
       "    </tr>\n",
       "  </thead>\n",
       "  <tbody>\n",
       "    <tr>\n",
       "      <th>0</th>\n",
       "      <td>Alvorada</td>\n",
       "      <td>2023</td>\n",
       "      <td>RS</td>\n",
       "    </tr>\n",
       "    <tr>\n",
       "      <th>1</th>\n",
       "      <td>Aratiba</td>\n",
       "      <td>2023</td>\n",
       "      <td>RS</td>\n",
       "    </tr>\n",
       "    <tr>\n",
       "      <th>2</th>\n",
       "      <td>Arroio do Meio</td>\n",
       "      <td>2023</td>\n",
       "      <td>RS</td>\n",
       "    </tr>\n",
       "    <tr>\n",
       "      <th>3</th>\n",
       "      <td>Arroio dos Ratos</td>\n",
       "      <td>2023</td>\n",
       "      <td>RS</td>\n",
       "    </tr>\n",
       "    <tr>\n",
       "      <th>4</th>\n",
       "      <td>Arujá</td>\n",
       "      <td>2023</td>\n",
       "      <td>SP</td>\n",
       "    </tr>\n",
       "  </tbody>\n",
       "</table>\n",
       "</div>"
      ],
      "text/plain": [
       "            Cidades   Ano  UF\n",
       "0          Alvorada  2023  RS\n",
       "1           Aratiba  2023  RS\n",
       "2    Arroio do Meio  2023  RS\n",
       "3  Arroio dos Ratos  2023  RS\n",
       "4             Arujá  2023  SP"
      ]
     },
     "execution_count": 20,
     "metadata": {},
     "output_type": "execute_result"
    }
   ],
   "source": [
    "dataset.columns = [\"Cidades\", \"Ano\", \"UF\"]\n",
    "dataset.head()"
   ]
  },
  {
   "cell_type": "code",
   "execution_count": 21,
   "metadata": {},
   "outputs": [
    {
     "name": "stdout",
     "output_type": "stream",
     "text": [
      "              Cidades   Ano  UF\n",
      "0            Alvorada  2023  RS\n",
      "1             Aratiba  2023  RS\n",
      "2      Arroio do Meio  2023  RS\n",
      "3    Arroio dos Ratos  2023  RS\n",
      "6    Balneario Pinhal  2023  RS\n",
      "..                ...   ...  ..\n",
      "107       Veranópolis  2023  RS\n",
      "108          Viadutos  2023  RS\n",
      "109            Viamão  2023  RS\n",
      "110        Vila Maria  2023  RS\n",
      "111         Xangri-lá  2023  RS\n",
      "\n",
      "[68 rows x 3 columns]\n"
     ]
    }
   ],
   "source": [
    "#Seleciona as linhas de acordo com o estado\n",
    "estados = ['RS']\n",
    "linhas_selecionadas = dataset.loc[dataset['UF'].isin(estados)]\n",
    "print(linhas_selecionadas)"
   ]
  },
  {
   "cell_type": "code",
   "execution_count": 25,
   "metadata": {},
   "outputs": [
    {
     "name": "stdout",
     "output_type": "stream",
     "text": [
      "              Cidades   Ano  UF\n",
      "0            Alvorada  2023  RS\n",
      "1             Aratiba  2023  RS\n",
      "2      Arroio do Meio  2023  RS\n",
      "3    Arroio dos Ratos  2023  RS\n",
      "6    Balneario Pinhal  2023  RS\n",
      "..                ...   ...  ..\n",
      "107       Veranópolis  2023  RS\n",
      "108          Viadutos  2023  RS\n",
      "109            Viamão  2023  RS\n",
      "110        Vila Maria  2023  RS\n",
      "111         Xangri-lá  2023  RS\n",
      "\n",
      "[68 rows x 3 columns]\n"
     ]
    }
   ],
   "source": [
    "#Seleciona as linhas de acordo com os anos\n",
    "linhas_selecionadas = dataset.loc[(dataset['UF'] == 'RS')]\n",
    "print(linhas_selecionadas)"
   ]
  },
  {
   "cell_type": "code",
   "execution_count": null,
   "metadata": {},
   "outputs": [],
   "source": []
  }
 ],
 "metadata": {
  "kernelspec": {
   "display_name": "Python 3",
   "language": "python",
   "name": "python3"
  },
  "language_info": {
   "codemirror_mode": {
    "name": "ipython",
    "version": 3
   },
   "file_extension": ".py",
   "mimetype": "text/x-python",
   "name": "python",
   "nbconvert_exporter": "python",
   "pygments_lexer": "ipython3",
   "version": "3.11.5"
  }
 },
 "nbformat": 4,
 "nbformat_minor": 2
}
