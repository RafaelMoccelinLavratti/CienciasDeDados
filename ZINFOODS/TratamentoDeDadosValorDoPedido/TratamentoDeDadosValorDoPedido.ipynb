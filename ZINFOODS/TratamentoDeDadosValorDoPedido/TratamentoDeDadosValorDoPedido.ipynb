{
 "cells": [
  {
   "cell_type": "code",
   "execution_count": 24,
   "metadata": {},
   "outputs": [
    {
     "data": {
      "text/html": [
       "<div>\n",
       "<style scoped>\n",
       "    .dataframe tbody tr th:only-of-type {\n",
       "        vertical-align: middle;\n",
       "    }\n",
       "\n",
       "    .dataframe tbody tr th {\n",
       "        vertical-align: top;\n",
       "    }\n",
       "\n",
       "    .dataframe thead th {\n",
       "        text-align: right;\n",
       "    }\n",
       "</style>\n",
       "<table border=\"1\" class=\"dataframe\">\n",
       "  <thead>\n",
       "    <tr style=\"text-align: right;\">\n",
       "      <th></th>\n",
       "      <th>LocalDateTable_ba934b29-0be9-45fc-a5b6-a2a0bace3d1b[Ano]</th>\n",
       "      <th>LocalDateTable_ba934b29-0be9-45fc-a5b6-a2a0bace3d1b[Mês]</th>\n",
       "      <th>LocalDateTable_ba934b29-0be9-45fc-a5b6-a2a0bace3d1b[MonthNo]</th>\n",
       "      <th>LocalDateTable_ba934b29-0be9-45fc-a5b6-a2a0bace3d1b[Dia]</th>\n",
       "      <th>[Valor_Total_de_Venda]</th>\n",
       "    </tr>\n",
       "  </thead>\n",
       "  <tbody>\n",
       "    <tr>\n",
       "      <th>0</th>\n",
       "      <td>2018</td>\n",
       "      <td>janeiro</td>\n",
       "      <td>1</td>\n",
       "      <td>2</td>\n",
       "      <td>166933,36</td>\n",
       "    </tr>\n",
       "    <tr>\n",
       "      <th>1</th>\n",
       "      <td>2018</td>\n",
       "      <td>janeiro</td>\n",
       "      <td>1</td>\n",
       "      <td>3</td>\n",
       "      <td>313238,11</td>\n",
       "    </tr>\n",
       "    <tr>\n",
       "      <th>2</th>\n",
       "      <td>2018</td>\n",
       "      <td>janeiro</td>\n",
       "      <td>1</td>\n",
       "      <td>4</td>\n",
       "      <td>136644,75</td>\n",
       "    </tr>\n",
       "    <tr>\n",
       "      <th>3</th>\n",
       "      <td>2018</td>\n",
       "      <td>janeiro</td>\n",
       "      <td>1</td>\n",
       "      <td>5</td>\n",
       "      <td>64650,58</td>\n",
       "    </tr>\n",
       "    <tr>\n",
       "      <th>4</th>\n",
       "      <td>2018</td>\n",
       "      <td>janeiro</td>\n",
       "      <td>1</td>\n",
       "      <td>8</td>\n",
       "      <td>229826,13</td>\n",
       "    </tr>\n",
       "  </tbody>\n",
       "</table>\n",
       "</div>"
      ],
      "text/plain": [
       "   LocalDateTable_ba934b29-0be9-45fc-a5b6-a2a0bace3d1b[Ano]  \\\n",
       "0                                               2018          \n",
       "1                                               2018          \n",
       "2                                               2018          \n",
       "3                                               2018          \n",
       "4                                               2018          \n",
       "\n",
       "  LocalDateTable_ba934b29-0be9-45fc-a5b6-a2a0bace3d1b[Mês]  \\\n",
       "0                                            janeiro         \n",
       "1                                            janeiro         \n",
       "2                                            janeiro         \n",
       "3                                            janeiro         \n",
       "4                                            janeiro         \n",
       "\n",
       "   LocalDateTable_ba934b29-0be9-45fc-a5b6-a2a0bace3d1b[MonthNo]  \\\n",
       "0                                                  1              \n",
       "1                                                  1              \n",
       "2                                                  1              \n",
       "3                                                  1              \n",
       "4                                                  1              \n",
       "\n",
       "   LocalDateTable_ba934b29-0be9-45fc-a5b6-a2a0bace3d1b[Dia]  \\\n",
       "0                                                  2          \n",
       "1                                                  3          \n",
       "2                                                  4          \n",
       "3                                                  5          \n",
       "4                                                  8          \n",
       "\n",
       "  [Valor_Total_de_Venda]  \n",
       "0              166933,36  \n",
       "1              313238,11  \n",
       "2              136644,75  \n",
       "3               64650,58  \n",
       "4              229826,13  "
      ]
     },
     "execution_count": 24,
     "metadata": {},
     "output_type": "execute_result"
    }
   ],
   "source": [
    "import pandas as pd \n",
    "import seaborn as srn \n",
    "import statistics as sts \n",
    "import numpy as np \n",
    "import matplotlib.pyplot as plt\n",
    "\n",
    "dataset = pd.read_csv(\"C:/Users/Rafael.M  S.I T.I/CiencasDeDados/ZINFOODS/DADOS/ANALISE_DE_PERDA_POR_PARADA/AGOSTO/AnaliseDoValorDoPedidoPorDia.csv\", sep = \";\")\n",
    "dataset.head()"
   ]
  },
  {
   "cell_type": "code",
   "execution_count": 3,
   "metadata": {},
   "outputs": [
    {
     "data": {
      "text/plain": [
       "(1484, 5)"
      ]
     },
     "execution_count": 3,
     "metadata": {},
     "output_type": "execute_result"
    }
   ],
   "source": [
    "dataset.shape"
   ]
  },
  {
   "cell_type": "code",
   "execution_count": 5,
   "metadata": {},
   "outputs": [
    {
     "data": {
      "text/html": [
       "<div>\n",
       "<style scoped>\n",
       "    .dataframe tbody tr th:only-of-type {\n",
       "        vertical-align: middle;\n",
       "    }\n",
       "\n",
       "    .dataframe tbody tr th {\n",
       "        vertical-align: top;\n",
       "    }\n",
       "\n",
       "    .dataframe thead th {\n",
       "        text-align: right;\n",
       "    }\n",
       "</style>\n",
       "<table border=\"1\" class=\"dataframe\">\n",
       "  <thead>\n",
       "    <tr style=\"text-align: right;\">\n",
       "      <th></th>\n",
       "      <th>Ano</th>\n",
       "      <th>Mes</th>\n",
       "      <th>Mesn</th>\n",
       "      <th>Dia</th>\n",
       "      <th>ValorPedido</th>\n",
       "    </tr>\n",
       "  </thead>\n",
       "  <tbody>\n",
       "    <tr>\n",
       "      <th>0</th>\n",
       "      <td>2018</td>\n",
       "      <td>janeiro</td>\n",
       "      <td>1</td>\n",
       "      <td>2</td>\n",
       "      <td>166933,36</td>\n",
       "    </tr>\n",
       "    <tr>\n",
       "      <th>1</th>\n",
       "      <td>2018</td>\n",
       "      <td>janeiro</td>\n",
       "      <td>1</td>\n",
       "      <td>3</td>\n",
       "      <td>313238,11</td>\n",
       "    </tr>\n",
       "    <tr>\n",
       "      <th>2</th>\n",
       "      <td>2018</td>\n",
       "      <td>janeiro</td>\n",
       "      <td>1</td>\n",
       "      <td>4</td>\n",
       "      <td>136644,75</td>\n",
       "    </tr>\n",
       "    <tr>\n",
       "      <th>3</th>\n",
       "      <td>2018</td>\n",
       "      <td>janeiro</td>\n",
       "      <td>1</td>\n",
       "      <td>5</td>\n",
       "      <td>64650,58</td>\n",
       "    </tr>\n",
       "    <tr>\n",
       "      <th>4</th>\n",
       "      <td>2018</td>\n",
       "      <td>janeiro</td>\n",
       "      <td>1</td>\n",
       "      <td>8</td>\n",
       "      <td>229826,13</td>\n",
       "    </tr>\n",
       "  </tbody>\n",
       "</table>\n",
       "</div>"
      ],
      "text/plain": [
       "    Ano      Mes  Mesn  Dia ValorPedido\n",
       "0  2018  janeiro     1    2   166933,36\n",
       "1  2018  janeiro     1    3   313238,11\n",
       "2  2018  janeiro     1    4   136644,75\n",
       "3  2018  janeiro     1    5    64650,58\n",
       "4  2018  janeiro     1    8   229826,13"
      ]
     },
     "execution_count": 5,
     "metadata": {},
     "output_type": "execute_result"
    }
   ],
   "source": [
    "dataset.columns = [\"Ano\", \"Mes\", \"Mesn\", \"Dia\", \"ValorPedido\"]\n",
    "dataset.head()"
   ]
  },
  {
   "cell_type": "code",
   "execution_count": 6,
   "metadata": {},
   "outputs": [
    {
     "name": "stdout",
     "output_type": "stream",
     "text": [
      "       Ano     Mes  Mesn  Dia ValorPedido\n",
      "149   2018  agosto     8    1    35166,46\n",
      "150   2018  agosto     8    2     12216,4\n",
      "151   2018  agosto     8    3    177719,2\n",
      "152   2018  agosto     8    6    105368,6\n",
      "153   2018  agosto     8    7   279912,88\n",
      "...    ...     ...   ...  ...         ...\n",
      "1431  2023  agosto     8   25   182643,58\n",
      "1432  2023  agosto     8   28   137293,58\n",
      "1433  2023  agosto     8   29   230872,54\n",
      "1434  2023  agosto     8   30   339661,43\n",
      "1435  2023  agosto     8   31    192328,3\n",
      "\n",
      "[134 rows x 5 columns]\n"
     ]
    }
   ],
   "source": [
    "#Seleciona as linhas de acordo com o mes\n",
    "mes = ['agosto']\n",
    "linhas_selecionadas = dataset.loc[dataset['Mes'].isin(mes)]\n",
    "print(linhas_selecionadas)"
   ]
  },
  {
   "cell_type": "code",
   "execution_count": 7,
   "metadata": {},
   "outputs": [
    {
     "name": "stdout",
     "output_type": "stream",
     "text": [
      "       Ano     Mes  Mesn  Dia ValorPedido\n",
      "1413  2023  agosto     8    1   253542,45\n",
      "1414  2023  agosto     8    2   301893,35\n",
      "1415  2023  agosto     8    3   152866,18\n",
      "1416  2023  agosto     8    4   204167,58\n",
      "1417  2023  agosto     8    7   129013,96\n",
      "1418  2023  agosto     8    8    95861,77\n",
      "1419  2023  agosto     8    9   542729,09\n",
      "1420  2023  agosto     8   10     3885,56\n",
      "1421  2023  agosto     8   11   260348,41\n",
      "1422  2023  agosto     8   14   101279,04\n",
      "1423  2023  agosto     8   15   264159,26\n",
      "1424  2023  agosto     8   16   297854,46\n",
      "1425  2023  agosto     8   17    22442,97\n",
      "1426  2023  agosto     8   18   236266,76\n",
      "1427  2023  agosto     8   21   299247,87\n",
      "1428  2023  agosto     8   22    48110,36\n",
      "1429  2023  agosto     8   23   458258,64\n",
      "1430  2023  agosto     8   24   147164,13\n",
      "1431  2023  agosto     8   25   182643,58\n",
      "1432  2023  agosto     8   28   137293,58\n",
      "1433  2023  agosto     8   29   230872,54\n",
      "1434  2023  agosto     8   30   339661,43\n",
      "1435  2023  agosto     8   31    192328,3\n"
     ]
    }
   ],
   "source": [
    "#Seleciona as linhas de acordo com os anos\n",
    "linhas_selecionadas = dataset.loc[(dataset['Mes'] == 'agosto') & (dataset['Ano'] == 2023)]\n",
    "print(linhas_selecionadas)"
   ]
  },
  {
   "cell_type": "code",
   "execution_count": 20,
   "metadata": {},
   "outputs": [
    {
     "name": "stderr",
     "output_type": "stream",
     "text": [
      "C:\\Users\\Rafael.M  S.I T.I\\AppData\\Local\\Temp\\ipykernel_23880\\2851788033.py:1: SettingWithCopyWarning: \n",
      "A value is trying to be set on a copy of a slice from a DataFrame.\n",
      "Try using .loc[row_indexer,col_indexer] = value instead\n",
      "\n",
      "See the caveats in the documentation: https://pandas.pydata.org/pandas-docs/stable/user_guide/indexing.html#returning-a-view-versus-a-copy\n",
      "  linhas_selecionadas['ValorPedido'] = linhas_selecionadas['ValorPedido'].str.replace(',', '.').astype(float)\n"
     ]
    }
   ],
   "source": [
    "linhas_selecionadas['ValorPedido'] = linhas_selecionadas['ValorPedido'].str.replace(',', '.').astype(float)\n"
   ]
  },
  {
   "cell_type": "code",
   "execution_count": 21,
   "metadata": {},
   "outputs": [
    {
     "name": "stdout",
     "output_type": "stream",
     "text": [
      "Mediana de Pedidos em agosto        Ano     Mes  Mesn  Dia  ValorPedido\n",
      "1413  2023  agosto     8    1    253542.45\n",
      "1414  2023  agosto     8    2    301893.35\n",
      "1415  2023  agosto     8    3    152866.18\n",
      "1416  2023  agosto     8    4    204167.58\n",
      "1417  2023  agosto     8    7    129013.96\n",
      "1418  2023  agosto     8    8     95861.77\n",
      "1419  2023  agosto     8    9    542729.09\n",
      "1420  2023  agosto     8   10      3885.56\n",
      "1421  2023  agosto     8   11    260348.41\n",
      "1422  2023  agosto     8   14    101279.04\n",
      "1423  2023  agosto     8   15    264159.26\n",
      "1424  2023  agosto     8   16    297854.46\n",
      "1425  2023  agosto     8   17     22442.97\n",
      "1426  2023  agosto     8   18    236266.76\n",
      "1427  2023  agosto     8   21    299247.87\n",
      "1428  2023  agosto     8   22     48110.36\n",
      "1429  2023  agosto     8   23    458258.64\n",
      "1430  2023  agosto     8   24    147164.13\n",
      "1431  2023  agosto     8   25    182643.58\n",
      "1432  2023  agosto     8   28    137293.58\n",
      "1433  2023  agosto     8   29    230872.54\n",
      "1434  2023  agosto     8   30    339661.43\n",
      "1435  2023  agosto     8   31    192328.30 , 213125.70739130434\n"
     ]
    }
   ],
   "source": [
    "mediana_pedidos = linhas_selecionadas['ValorPedido'].mean()\n",
    "print(\"Mediana de Pedidos em agosto\", linhas_selecionadas, \",\", mediana_pedidos)"
   ]
  },
  {
   "cell_type": "code",
   "execution_count": 23,
   "metadata": {},
   "outputs": [
    {
     "data": {
      "image/png": "[encoded data removed]",
      "text/plain": [
       "<Figure size 640x480 with 1 Axes>"
      ]
     },
     "metadata": {},
     "output_type": "display_data"
    }
   ],
   "source": [
    "import matplotlib.pyplot as plt\n",
    "dias =  [1, 2, 3, 4, 7, 8, 9, 10, 11, 14, 15, 16, 17, 18, 21, 22, 23, 24, 25, 28, 29, 30, 31]\n",
    "ValorDosPedidos = [ 253542.45, 301893.35, 152866.18, 204167.58, 129013.96, 95861.77, 542729.09, 3885.56, 260348.41, 101279.04,  264159.26,  297854.46,  22442.97, 236266.76, 299247.87,48110.36,  458258.64, 147164.13, 182643.58,  137293.58,  230872.54, 339661.43, 192328.30] \n",
    "plt.bar(dias, ValorDosPedidos, color='green')\n",
    "plt.title(\"Pedidos por dia no mês de Agosto\")\n",
    "plt.ylabel(\"Dias\")\n",
    "plt.show()"
   ]
  }
 ],
 "metadata": {
  "kernelspec": {
   "display_name": "Python 3",
   "language": "python",
   "name": "python3"
  },
  "language_info": {
   "codemirror_mode": {
    "name": "ipython",
    "version": 3
   },
   "file_extension": ".py",
   "mimetype": "text/x-python",
   "name": "python",
   "nbconvert_exporter": "python",
   "pygments_lexer": "ipython3",
   "version": "3.11.5"
  }
 },
 "nbformat": 4,
 "nbformat_minor": 2
}
