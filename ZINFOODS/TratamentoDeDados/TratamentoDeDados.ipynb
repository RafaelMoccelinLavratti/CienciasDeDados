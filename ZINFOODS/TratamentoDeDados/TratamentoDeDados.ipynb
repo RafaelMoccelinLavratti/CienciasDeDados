{
 "cells": [
  {
   "cell_type": "code",
   "execution_count": 1,
   "metadata": {},
   "outputs": [
    {
     "data": {
      "text/html": [
       "<div>\n",
       "<style scoped>\n",
       "    .dataframe tbody tr th:only-of-type {\n",
       "        vertical-align: middle;\n",
       "    }\n",
       "\n",
       "    .dataframe tbody tr th {\n",
       "        vertical-align: top;\n",
       "    }\n",
       "\n",
       "    .dataframe thead th {\n",
       "        text-align: right;\n",
       "    }\n",
       "</style>\n",
       "<table border=\"1\" class=\"dataframe\">\n",
       "  <thead>\n",
       "    <tr style=\"text-align: right;\">\n",
       "      <th></th>\n",
       "      <th>Cidade[Estado]</th>\n",
       "      <th>Marcas de Produtos[Marca]</th>\n",
       "      <th>[CountCliente]</th>\n",
       "      <th>[MinUF]</th>\n",
       "      <th>[CountCidade2]</th>\n",
       "      <th>[MinEstado]</th>\n",
       "      <th>[CountUF]</th>\n",
       "    </tr>\n",
       "  </thead>\n",
       "  <tbody>\n",
       "    <tr>\n",
       "      <th>0</th>\n",
       "      <td>Rio Grande do Sul</td>\n",
       "      <td>ZIN PÃO</td>\n",
       "      <td>739</td>\n",
       "      <td>RS</td>\n",
       "      <td>497</td>\n",
       "      <td>Rio Grande do Sul</td>\n",
       "      <td>497</td>\n",
       "    </tr>\n",
       "    <tr>\n",
       "      <th>1</th>\n",
       "      <td>Rio Grande do Sul</td>\n",
       "      <td>NaN</td>\n",
       "      <td>634</td>\n",
       "      <td>RS</td>\n",
       "      <td>497</td>\n",
       "      <td>Rio Grande do Sul</td>\n",
       "      <td>497</td>\n",
       "    </tr>\n",
       "    <tr>\n",
       "      <th>2</th>\n",
       "      <td>Rio Grande do Sul</td>\n",
       "      <td>FAZENDA MINAS</td>\n",
       "      <td>525</td>\n",
       "      <td>RS</td>\n",
       "      <td>497</td>\n",
       "      <td>Rio Grande do Sul</td>\n",
       "      <td>497</td>\n",
       "    </tr>\n",
       "    <tr>\n",
       "      <th>3</th>\n",
       "      <td>Rio Grande do Sul</td>\n",
       "      <td>INVITA</td>\n",
       "      <td>444</td>\n",
       "      <td>RS</td>\n",
       "      <td>497</td>\n",
       "      <td>Rio Grande do Sul</td>\n",
       "      <td>497</td>\n",
       "    </tr>\n",
       "    <tr>\n",
       "      <th>4</th>\n",
       "      <td>Rio Grande do Sul</td>\n",
       "      <td>DITA MARMITA</td>\n",
       "      <td>188</td>\n",
       "      <td>RS</td>\n",
       "      <td>497</td>\n",
       "      <td>Rio Grande do Sul</td>\n",
       "      <td>497</td>\n",
       "    </tr>\n",
       "  </tbody>\n",
       "</table>\n",
       "</div>"
      ],
      "text/plain": [
       "      Cidade[Estado] Marcas de Produtos[Marca]  [CountCliente] [MinUF]  \\\n",
       "0  Rio Grande do Sul                   ZIN PÃO             739      RS   \n",
       "1  Rio Grande do Sul                       NaN             634      RS   \n",
       "2  Rio Grande do Sul             FAZENDA MINAS             525      RS   \n",
       "3  Rio Grande do Sul                    INVITA             444      RS   \n",
       "4  Rio Grande do Sul              DITA MARMITA             188      RS   \n",
       "\n",
       "   [CountCidade2]        [MinEstado]  [CountUF]  \n",
       "0             497  Rio Grande do Sul        497  \n",
       "1             497  Rio Grande do Sul        497  \n",
       "2             497  Rio Grande do Sul        497  \n",
       "3             497  Rio Grande do Sul        497  \n",
       "4             497  Rio Grande do Sul        497  "
      ]
     },
     "execution_count": 1,
     "metadata": {},
     "output_type": "execute_result"
    }
   ],
   "source": [
    "import pandas as pd \n",
    "import seaborn as srn \n",
    "import statistics as sts \n",
    "import numpy as np \n",
    "\n",
    "dataset = pd.read_csv(\"C:/Users/Rafael.M  S.I T.I/CiencasDeDados/ZINFOODS/DADOS/Cidades.csv\", sep = \";\")\n",
    "dataset.head()\n"
   ]
  },
  {
   "cell_type": "code",
   "execution_count": 2,
   "metadata": {},
   "outputs": [
    {
     "data": {
      "text/plain": [
       "(43, 7)"
      ]
     },
     "execution_count": 2,
     "metadata": {},
     "output_type": "execute_result"
    }
   ],
   "source": [
    "dataset.shape"
   ]
  },
  {
   "cell_type": "code",
   "execution_count": 3,
   "metadata": {},
   "outputs": [
    {
     "data": {
      "text/html": [
       "<div>\n",
       "<style scoped>\n",
       "    .dataframe tbody tr th:only-of-type {\n",
       "        vertical-align: middle;\n",
       "    }\n",
       "\n",
       "    .dataframe tbody tr th {\n",
       "        vertical-align: top;\n",
       "    }\n",
       "\n",
       "    .dataframe thead th {\n",
       "        text-align: right;\n",
       "    }\n",
       "</style>\n",
       "<table border=\"1\" class=\"dataframe\">\n",
       "  <thead>\n",
       "    <tr style=\"text-align: right;\">\n",
       "      <th></th>\n",
       "      <th>Estado</th>\n",
       "      <th>Marcas</th>\n",
       "      <th>Clientes</th>\n",
       "      <th>UF</th>\n",
       "      <th>Cidades</th>\n",
       "      <th>Estadosmin</th>\n",
       "      <th>Cuf</th>\n",
       "    </tr>\n",
       "  </thead>\n",
       "  <tbody>\n",
       "    <tr>\n",
       "      <th>0</th>\n",
       "      <td>Rio Grande do Sul</td>\n",
       "      <td>ZIN PÃO</td>\n",
       "      <td>739</td>\n",
       "      <td>RS</td>\n",
       "      <td>497</td>\n",
       "      <td>Rio Grande do Sul</td>\n",
       "      <td>497</td>\n",
       "    </tr>\n",
       "    <tr>\n",
       "      <th>1</th>\n",
       "      <td>Rio Grande do Sul</td>\n",
       "      <td>NaN</td>\n",
       "      <td>634</td>\n",
       "      <td>RS</td>\n",
       "      <td>497</td>\n",
       "      <td>Rio Grande do Sul</td>\n",
       "      <td>497</td>\n",
       "    </tr>\n",
       "    <tr>\n",
       "      <th>2</th>\n",
       "      <td>Rio Grande do Sul</td>\n",
       "      <td>FAZENDA MINAS</td>\n",
       "      <td>525</td>\n",
       "      <td>RS</td>\n",
       "      <td>497</td>\n",
       "      <td>Rio Grande do Sul</td>\n",
       "      <td>497</td>\n",
       "    </tr>\n",
       "    <tr>\n",
       "      <th>3</th>\n",
       "      <td>Rio Grande do Sul</td>\n",
       "      <td>INVITA</td>\n",
       "      <td>444</td>\n",
       "      <td>RS</td>\n",
       "      <td>497</td>\n",
       "      <td>Rio Grande do Sul</td>\n",
       "      <td>497</td>\n",
       "    </tr>\n",
       "    <tr>\n",
       "      <th>4</th>\n",
       "      <td>Rio Grande do Sul</td>\n",
       "      <td>DITA MARMITA</td>\n",
       "      <td>188</td>\n",
       "      <td>RS</td>\n",
       "      <td>497</td>\n",
       "      <td>Rio Grande do Sul</td>\n",
       "      <td>497</td>\n",
       "    </tr>\n",
       "  </tbody>\n",
       "</table>\n",
       "</div>"
      ],
      "text/plain": [
       "              Estado         Marcas  Clientes  UF  Cidades         Estadosmin  \\\n",
       "0  Rio Grande do Sul        ZIN PÃO       739  RS      497  Rio Grande do Sul   \n",
       "1  Rio Grande do Sul            NaN       634  RS      497  Rio Grande do Sul   \n",
       "2  Rio Grande do Sul  FAZENDA MINAS       525  RS      497  Rio Grande do Sul   \n",
       "3  Rio Grande do Sul         INVITA       444  RS      497  Rio Grande do Sul   \n",
       "4  Rio Grande do Sul   DITA MARMITA       188  RS      497  Rio Grande do Sul   \n",
       "\n",
       "   Cuf  \n",
       "0  497  \n",
       "1  497  \n",
       "2  497  \n",
       "3  497  \n",
       "4  497  "
      ]
     },
     "execution_count": 3,
     "metadata": {},
     "output_type": "execute_result"
    }
   ],
   "source": [
    "dataset.columns = [\"Estado\",\"Marcas\",\"Clientes\",\"UF\",\"Cidades\",\"Estadosmin\",\"Cuf\"]\n",
    "dataset.head()"
   ]
  },
  {
   "cell_type": "code",
   "execution_count": 4,
   "metadata": {},
   "outputs": [
    {
     "data": {
      "text/html": [
       "<div>\n",
       "<style scoped>\n",
       "    .dataframe tbody tr th:only-of-type {\n",
       "        vertical-align: middle;\n",
       "    }\n",
       "\n",
       "    .dataframe tbody tr th {\n",
       "        vertical-align: top;\n",
       "    }\n",
       "\n",
       "    .dataframe thead th {\n",
       "        text-align: right;\n",
       "    }\n",
       "</style>\n",
       "<table border=\"1\" class=\"dataframe\">\n",
       "  <thead>\n",
       "    <tr style=\"text-align: right;\">\n",
       "      <th></th>\n",
       "      <th>Clientes</th>\n",
       "      <th>Cidades</th>\n",
       "      <th>Cuf</th>\n",
       "    </tr>\n",
       "  </thead>\n",
       "  <tbody>\n",
       "    <tr>\n",
       "      <th>count</th>\n",
       "      <td>43.000000</td>\n",
       "      <td>43.000000</td>\n",
       "      <td>43.000000</td>\n",
       "    </tr>\n",
       "    <tr>\n",
       "      <th>mean</th>\n",
       "      <td>90.581395</td>\n",
       "      <td>397.604651</td>\n",
       "      <td>397.604651</td>\n",
       "    </tr>\n",
       "    <tr>\n",
       "      <th>std</th>\n",
       "      <td>170.951293</td>\n",
       "      <td>164.932907</td>\n",
       "      <td>164.932907</td>\n",
       "    </tr>\n",
       "    <tr>\n",
       "      <th>min</th>\n",
       "      <td>1.000000</td>\n",
       "      <td>92.000000</td>\n",
       "      <td>92.000000</td>\n",
       "    </tr>\n",
       "    <tr>\n",
       "      <th>25%</th>\n",
       "      <td>2.000000</td>\n",
       "      <td>296.000000</td>\n",
       "      <td>296.000000</td>\n",
       "    </tr>\n",
       "    <tr>\n",
       "      <th>50%</th>\n",
       "      <td>28.000000</td>\n",
       "      <td>399.000000</td>\n",
       "      <td>399.000000</td>\n",
       "    </tr>\n",
       "    <tr>\n",
       "      <th>75%</th>\n",
       "      <td>75.000000</td>\n",
       "      <td>497.000000</td>\n",
       "      <td>497.000000</td>\n",
       "    </tr>\n",
       "    <tr>\n",
       "      <th>max</th>\n",
       "      <td>739.000000</td>\n",
       "      <td>645.000000</td>\n",
       "      <td>645.000000</td>\n",
       "    </tr>\n",
       "  </tbody>\n",
       "</table>\n",
       "</div>"
      ],
      "text/plain": [
       "         Clientes     Cidades         Cuf\n",
       "count   43.000000   43.000000   43.000000\n",
       "mean    90.581395  397.604651  397.604651\n",
       "std    170.951293  164.932907  164.932907\n",
       "min      1.000000   92.000000   92.000000\n",
       "25%      2.000000  296.000000  296.000000\n",
       "50%     28.000000  399.000000  399.000000\n",
       "75%     75.000000  497.000000  497.000000\n",
       "max    739.000000  645.000000  645.000000"
      ]
     },
     "execution_count": 4,
     "metadata": {},
     "output_type": "execute_result"
    }
   ],
   "source": [
    "dataset.describe()"
   ]
  },
  {
   "cell_type": "code",
   "execution_count": 5,
   "metadata": {},
   "outputs": [
    {
     "data": {
      "text/plain": [
       "Estado\n",
       "Paraná                7\n",
       "Pernambuco            4\n",
       "Rio Grande do Sul    14\n",
       "Rio de Janeiro        4\n",
       "Santa Catarina        8\n",
       "São Paulo             6\n",
       "dtype: int64"
      ]
     },
     "execution_count": 5,
     "metadata": {},
     "output_type": "execute_result"
    }
   ],
   "source": [
    "zinfoods = dataset.groupby(['Estado']).size()\n",
    "zinfoods"
   ]
  },
  {
   "cell_type": "code",
   "execution_count": 7,
   "metadata": {},
   "outputs": [
    {
     "data": {
      "text/plain": [
       "<Axes: xlabel='Estado'>"
      ]
     },
     "execution_count": 7,
     "metadata": {},
     "output_type": "execute_result"
    },
    {
     "data": {
      "image/png": "[encoded data removed]",
      "text/plain": [
       "<Figure size 640x480 with 1 Axes>"
      ]
     },
     "metadata": {},
     "output_type": "display_data"
    }
   ],
   "source": [
    "zinfoods.plot.bar( color= 'red')"
   ]
  },
  {
   "cell_type": "code",
   "execution_count": 13,
   "metadata": {},
   "outputs": [
    {
     "data": {
      "text/plain": [
       "0"
      ]
     },
     "execution_count": 13,
     "metadata": {},
     "output_type": "execute_result"
    }
   ],
   "source": [
    "dataset['Estado'].isnull().sum()"
   ]
  }
 ],
 "metadata": {
  "kernelspec": {
   "display_name": "Python 3",
   "language": "python",
   "name": "python3"
  },
  "language_info": {
   "codemirror_mode": {
    "name": "ipython",
    "version": 3
   },
   "file_extension": ".py",
   "mimetype": "text/x-python",
   "name": "python",
   "nbconvert_exporter": "python",
   "pygments_lexer": "ipython3",
   "version": "3.11.5"
  }
 },
 "nbformat": 4,
 "nbformat_minor": 2
}
