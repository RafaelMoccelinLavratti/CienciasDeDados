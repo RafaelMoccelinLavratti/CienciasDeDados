{
 "cells": [
  {
   "cell_type": "code",
   "execution_count": 31,
   "metadata": {},
   "outputs": [
    {
     "data": {
      "text/html": [
       "<div>\n",
       "<style scoped>\n",
       "    .dataframe tbody tr th:only-of-type {\n",
       "        vertical-align: middle;\n",
       "    }\n",
       "\n",
       "    .dataframe tbody tr th {\n",
       "        vertical-align: top;\n",
       "    }\n",
       "\n",
       "    .dataframe thead th {\n",
       "        text-align: right;\n",
       "    }\n",
       "</style>\n",
       "<table border=\"1\" class=\"dataframe\">\n",
       "  <thead>\n",
       "    <tr style=\"text-align: right;\">\n",
       "      <th></th>\n",
       "      <th>Produtos[Produto/Serviço]</th>\n",
       "      <th>[SumValor_Total]</th>\n",
       "    </tr>\n",
       "  </thead>\n",
       "  <tbody>\n",
       "    <tr>\n",
       "      <th>0</th>\n",
       "      <td>56 - BISCOITO TRÊS QUEIJOS 25G ZIN PAO - CX 6 KG</td>\n",
       "      <td>25831838,83</td>\n",
       "    </tr>\n",
       "    <tr>\n",
       "      <th>1</th>\n",
       "      <td>45 - PÃO DE QUEIJO TRADICIONAL 25G FAZENDA MIN...</td>\n",
       "      <td>23476227,93</td>\n",
       "    </tr>\n",
       "    <tr>\n",
       "      <th>2</th>\n",
       "      <td>1 - COXINHA DE FRANGO 22G - CX 6 KG</td>\n",
       "      <td>15417762,59</td>\n",
       "    </tr>\n",
       "    <tr>\n",
       "      <th>3</th>\n",
       "      <td>22 - COXINHA DE FRANGO COM REQUEIJÃO 120G - CX...</td>\n",
       "      <td>14537051,6</td>\n",
       "    </tr>\n",
       "    <tr>\n",
       "      <th>4</th>\n",
       "      <td>1070 - PÃO DE ALHO TRADICIONAL RESFRIADO 400G ...</td>\n",
       "      <td>14223322,64</td>\n",
       "    </tr>\n",
       "  </tbody>\n",
       "</table>\n",
       "</div>"
      ],
      "text/plain": [
       "                           Produtos[Produto/Serviço] [SumValor_Total]\n",
       "0   56 - BISCOITO TRÊS QUEIJOS 25G ZIN PAO - CX 6 KG      25831838,83\n",
       "1  45 - PÃO DE QUEIJO TRADICIONAL 25G FAZENDA MIN...      23476227,93\n",
       "2                1 - COXINHA DE FRANGO 22G - CX 6 KG      15417762,59\n",
       "3  22 - COXINHA DE FRANGO COM REQUEIJÃO 120G - CX...       14537051,6\n",
       "4  1070 - PÃO DE ALHO TRADICIONAL RESFRIADO 400G ...      14223322,64"
      ]
     },
     "execution_count": 31,
     "metadata": {},
     "output_type": "execute_result"
    }
   ],
   "source": [
    "import pandas as pd \n",
    "import seaborn as srn \n",
    "import statistics as sts \n",
    "import numpy as np \n",
    "\n",
    "dataset = pd.read_csv(\"C:/Users/Rafael.M  S.I T.I/CiencasDeDados/ZINFOODS/DADOS/Pedidos.csv\", sep = \";\")\n",
    "dataset.head()\n"
   ]
  },
  {
   "cell_type": "code",
   "execution_count": 32,
   "metadata": {},
   "outputs": [
    {
     "data": {
      "text/plain": [
       "(670, 2)"
      ]
     },
     "execution_count": 32,
     "metadata": {},
     "output_type": "execute_result"
    }
   ],
   "source": [
    "dataset.shape"
   ]
  },
  {
   "cell_type": "code",
   "execution_count": 36,
   "metadata": {},
   "outputs": [
    {
     "data": {
      "text/html": [
       "<div>\n",
       "<style scoped>\n",
       "    .dataframe tbody tr th:only-of-type {\n",
       "        vertical-align: middle;\n",
       "    }\n",
       "\n",
       "    .dataframe tbody tr th {\n",
       "        vertical-align: top;\n",
       "    }\n",
       "\n",
       "    .dataframe thead th {\n",
       "        text-align: right;\n",
       "    }\n",
       "</style>\n",
       "<table border=\"1\" class=\"dataframe\">\n",
       "  <thead>\n",
       "    <tr style=\"text-align: right;\">\n",
       "      <th></th>\n",
       "      <th>Produtos</th>\n",
       "      <th>Valor Total</th>\n",
       "    </tr>\n",
       "  </thead>\n",
       "  <tbody>\n",
       "    <tr>\n",
       "      <th>0</th>\n",
       "      <td>56 - BISCOITO TRÊS QUEIJOS 25G ZIN PAO - CX 6 KG</td>\n",
       "      <td>25831838,83</td>\n",
       "    </tr>\n",
       "    <tr>\n",
       "      <th>1</th>\n",
       "      <td>45 - PÃO DE QUEIJO TRADICIONAL 25G FAZENDA MIN...</td>\n",
       "      <td>23476227,93</td>\n",
       "    </tr>\n",
       "    <tr>\n",
       "      <th>2</th>\n",
       "      <td>1 - COXINHA DE FRANGO 22G - CX 6 KG</td>\n",
       "      <td>15417762,59</td>\n",
       "    </tr>\n",
       "    <tr>\n",
       "      <th>3</th>\n",
       "      <td>22 - COXINHA DE FRANGO COM REQUEIJÃO 120G - CX...</td>\n",
       "      <td>14537051,6</td>\n",
       "    </tr>\n",
       "    <tr>\n",
       "      <th>4</th>\n",
       "      <td>1070 - PÃO DE ALHO TRADICIONAL RESFRIADO 400G ...</td>\n",
       "      <td>14223322,64</td>\n",
       "    </tr>\n",
       "  </tbody>\n",
       "</table>\n",
       "</div>"
      ],
      "text/plain": [
       "                                            Produtos  Valor Total\n",
       "0   56 - BISCOITO TRÊS QUEIJOS 25G ZIN PAO - CX 6 KG  25831838,83\n",
       "1  45 - PÃO DE QUEIJO TRADICIONAL 25G FAZENDA MIN...  23476227,93\n",
       "2                1 - COXINHA DE FRANGO 22G - CX 6 KG  15417762,59\n",
       "3  22 - COXINHA DE FRANGO COM REQUEIJÃO 120G - CX...   14537051,6\n",
       "4  1070 - PÃO DE ALHO TRADICIONAL RESFRIADO 400G ...  14223322,64"
      ]
     },
     "execution_count": 36,
     "metadata": {},
     "output_type": "execute_result"
    }
   ],
   "source": [
    "dataset.columns = [\"Produtos\",\"Valor Total\"]\n",
    "dataset.head()"
   ]
  },
  {
   "cell_type": "code",
   "execution_count": 37,
   "metadata": {},
   "outputs": [
    {
     "data": {
      "text/html": [
       "<div>\n",
       "<style scoped>\n",
       "    .dataframe tbody tr th:only-of-type {\n",
       "        vertical-align: middle;\n",
       "    }\n",
       "\n",
       "    .dataframe tbody tr th {\n",
       "        vertical-align: top;\n",
       "    }\n",
       "\n",
       "    .dataframe thead th {\n",
       "        text-align: right;\n",
       "    }\n",
       "</style>\n",
       "<table border=\"1\" class=\"dataframe\">\n",
       "  <thead>\n",
       "    <tr style=\"text-align: right;\">\n",
       "      <th></th>\n",
       "      <th>Produtos</th>\n",
       "      <th>Valor Total</th>\n",
       "    </tr>\n",
       "  </thead>\n",
       "  <tbody>\n",
       "    <tr>\n",
       "      <th>count</th>\n",
       "      <td>669</td>\n",
       "      <td>670</td>\n",
       "    </tr>\n",
       "    <tr>\n",
       "      <th>unique</th>\n",
       "      <td>669</td>\n",
       "      <td>649</td>\n",
       "    </tr>\n",
       "    <tr>\n",
       "      <th>top</th>\n",
       "      <td>56 - BISCOITO TRÊS QUEIJOS 25G ZIN PAO - CX 6 KG</td>\n",
       "      <td>2,22</td>\n",
       "    </tr>\n",
       "    <tr>\n",
       "      <th>freq</th>\n",
       "      <td>1</td>\n",
       "      <td>5</td>\n",
       "    </tr>\n",
       "  </tbody>\n",
       "</table>\n",
       "</div>"
      ],
      "text/plain": [
       "                                                Produtos Valor Total\n",
       "count                                                669         670\n",
       "unique                                               669         649\n",
       "top     56 - BISCOITO TRÊS QUEIJOS 25G ZIN PAO - CX 6 KG        2,22\n",
       "freq                                                   1           5"
      ]
     },
     "execution_count": 37,
     "metadata": {},
     "output_type": "execute_result"
    }
   ],
   "source": [
    "dataset.describe()"
   ]
  },
  {
   "cell_type": "code",
   "execution_count": 39,
   "metadata": {},
   "outputs": [
    {
     "data": {
      "text/plain": [
       "Produtos\n",
       "1 - COXINHA DE FRANGO 22G - CX 6 KG           1\n",
       "1 - COXINHA DE FRANGO 22G - INATIVO           1\n",
       "1 - COXINHA DE FRANGO 22G - KG                1\n",
       "1 - COXINHA DE FRANGO 22G - PCT 2 KG          1\n",
       "10 - RISOLES DE CAMARÃO 20g - CX 6 KG         1\n",
       "                                             ..\n",
       "949 - GROSTOLI (CUECA VIRADA) - INATIVO       1\n",
       "949 - GROSTOLI (CUECA VIRADA) - KG            1\n",
       "961 - GROSTOLI SEQUILHO ESPECIAL - CX 6 KG    1\n",
       "961 - GROSTOLI SEQUILHO ESPECIAL - INATIVO    1\n",
       "961 - GROSTOLI SEQUILHO ESPECIAL - KG         1\n",
       "Length: 669, dtype: int64"
      ]
     },
     "execution_count": 39,
     "metadata": {},
     "output_type": "execute_result"
    }
   ],
   "source": [
    "zinfoods = dataset.groupby(['Produtos']).size()\n",
    "zinfoods"
   ]
  },
  {
   "cell_type": "code",
   "execution_count": 18,
   "metadata": {},
   "outputs": [
    {
     "data": {
      "text/plain": [
       "0"
      ]
     },
     "execution_count": 18,
     "metadata": {},
     "output_type": "execute_result"
    }
   ],
   "source": [
    "dataset['Produtos'].isnull().sum()"
   ]
  },
  {
   "cell_type": "code",
   "execution_count": 17,
   "metadata": {},
   "outputs": [],
   "source": [
    "dataset['Produtos'].fillna(0, inplace=True)"
   ]
  },
  {
   "cell_type": "code",
   "execution_count": 20,
   "metadata": {},
   "outputs": [
    {
     "data": {
      "text/plain": [
       "Produtos\n",
       "0                                             1\n",
       "1 - COXINHA DE FRANGO 22G - CX 6 KG           1\n",
       "1 - COXINHA DE FRANGO 22G - INATIVO           1\n",
       "1 - COXINHA DE FRANGO 22G - KG                1\n",
       "1 - COXINHA DE FRANGO 22G - PCT 2 KG          1\n",
       "                                             ..\n",
       "949 - GROSTOLI (CUECA VIRADA) - INATIVO       1\n",
       "949 - GROSTOLI (CUECA VIRADA) - KG            1\n",
       "961 - GROSTOLI SEQUILHO ESPECIAL - CX 6 KG    1\n",
       "961 - GROSTOLI SEQUILHO ESPECIAL - INATIVO    1\n",
       "961 - GROSTOLI SEQUILHO ESPECIAL - KG         1\n",
       "Length: 670, dtype: int64"
      ]
     },
     "execution_count": 20,
     "metadata": {},
     "output_type": "execute_result"
    }
   ],
   "source": [
    "zinfoods = dataset.groupby(['Produtos']).size()\n",
    "zinfoods"
   ]
  },
  {
   "cell_type": "code",
   "execution_count": null,
   "metadata": {},
   "outputs": [],
   "source": []
  }
 ],
 "metadata": {
  "kernelspec": {
   "display_name": "Python 3",
   "language": "python",
   "name": "python3"
  },
  "language_info": {
   "codemirror_mode": {
    "name": "ipython",
    "version": 3
   },
   "file_extension": ".py",
   "mimetype": "text/x-python",
   "name": "python",
   "nbconvert_exporter": "python",
   "pygments_lexer": "ipython3",
   "version": "3.11.5"
  }
 },
 "nbformat": 4,
 "nbformat_minor": 2
}
