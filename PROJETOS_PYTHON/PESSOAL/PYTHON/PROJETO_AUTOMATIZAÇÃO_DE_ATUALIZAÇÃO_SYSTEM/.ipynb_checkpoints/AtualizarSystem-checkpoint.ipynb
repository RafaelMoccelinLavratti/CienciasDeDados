{
 "cells": [
  {
   "cell_type": "code",
   "execution_count": 1,
   "id": "c95a8fa0-f878-4461-8388-7dbc70ccdb09",
   "metadata": {},
   "outputs": [],
   "source": [
    "import pyautogui as AtualizarSystem"
   ]
  },
  {
   "cell_type": "code",
   "execution_count": 34,
   "id": "c75b667d-6357-4093-ad25-ffa14bc9ac64",
   "metadata": {},
   "outputs": [],
   "source": [
    "\n",
    "AtualizarSystem.sleep(5)#Espera para abrir ou gerar pointclick\n",
    "\n",
    "#print(AtualizarSystem.position())\n",
    "\n",
    "AtualizarSystem.moveTo(x=298, y=876)#Move até o atalho da System\n",
    "\n",
    "AtualizarSystem.sleep(3)#Espera para abrir ou gerar pointclick\n",
    "\n",
    "AtualizarSystem.click(x=298, y=876)#Clica para abrir o sistema da System\n",
    "\n",
    "AtualizarSystem.sleep(8)#Espera para abrir ou gerar pointclick\n",
    "\n",
    "AtualizarSystem.moveTo(x=499, y=440)#Move até aonde colocar a senha\n",
    "\n",
    "AtualizarSystem.sleep(6)#Espera para abrir ou gerar pointclick\n",
    "\n",
    "AtualizarSystem.write('lavratti')#Escreve a senha de acesso\n",
    "\n",
    "AtualizarSystem.sleep(6)#Espera para abrir ou gerar pointclick\n",
    "\n",
    "AtualizarSystem.press('enter')#Confirma o acesso\n",
    "\n",
    "AtualizarSystem.sleep(6)#Espera para abrir ou gerar pointclick\n",
    "\n",
    "AtualizarSystem.moveTo(x=763, y=395)#Move até clicar para atualizar\n",
    "\n",
    "AtualizarSystem.sleep(3)#Espera para abrir ou gerar pointclick\n",
    "\n",
    "AtualizarSystem.rightClick(x=763, y=395)#Abre para atualização do Sistema\n",
    "\n",
    "AtualizarSystem.sleep(3)#Espera para abrir ou gerar pointclick\n",
    "\n",
    "AtualizarSystem.moveTo(x=781, y=404)#Move até clicar para atualizar\n",
    "\n",
    "AtualizarSystem.sleep(3)#Espera para abrir ou gerar pointclick\n",
    "\n",
    "AtualizarSystem.click(x=781, y=404)#Clica para abrir a atualização da System\n",
    "\n",
    "AtualizarSystem.sleep(8)#Espera para abrir ou gerar pointclick\n",
    "\n",
    "AtualizarSystem.moveTo(x=856, y=730)#Move até clicar para atualizar\n",
    "\n",
    "AtualizarSystem.sleep(3)#Espera para abrir ou gerar pointclick\n",
    "\n",
    "AtualizarSystem.click(x=856, y=730)#Clica para atualizar o sistema da System\n",
    "\n",
    "AtualizarSystem.sleep(10)#Espera para abrir ou gerar pointclick\n",
    "\n",
    "AtualizarSystem.moveTo(x=756, y=494)#Move até clicar para atualizar\n",
    "\n",
    "AtualizarSystem.sleep(10)#Espera para abrir ou gerar pointclick\n",
    "\n",
    "AtualizarSystem.click(x=756, y=494)#Clica para atualizar o sistema da System\n",
    "\n",
    "AtualizarSystem.sleep(60)#Espera para abrir ou gerar pointclick\n",
    "\n",
    "AtualizarSystem.moveTo(x=856, y=730)#Move até clicar para atualizar\n",
    "\n",
    "AtualizarSystem.sleep(5)#Espera para abrir ou gerar pointclick\n",
    "\n",
    "AtualizarSystem.click(x=856, y=730)#Clica no botão atualizar do sistema da System\n",
    "\n",
    "#print(AtualizarSystem.position())"
   ]
  },
  {
   "cell_type": "code",
   "execution_count": null,
   "id": "23699702-9fc5-46d0-b5ac-a6df2cdcb7cb",
   "metadata": {},
   "outputs": [],
   "source": [
    "\n"
   ]
  },
  {
   "cell_type": "code",
   "execution_count": null,
   "id": "1253b34b-8f79-4eaa-aef1-fe5f41de9909",
   "metadata": {},
   "outputs": [],
   "source": []
  }
 ],
 "metadata": {
  "kernelspec": {
   "display_name": "Python 3 (ipykernel)",
   "language": "python",
   "name": "python3"
  },
  "language_info": {
   "codemirror_mode": {
    "name": "ipython",
    "version": 3
   },
   "file_extension": ".py",
   "mimetype": "text/x-python",
   "name": "python",
   "nbconvert_exporter": "python",
   "pygments_lexer": "ipython3",
   "version": "3.10.9"
  }
 },
 "nbformat": 4,
 "nbformat_minor": 5
}
