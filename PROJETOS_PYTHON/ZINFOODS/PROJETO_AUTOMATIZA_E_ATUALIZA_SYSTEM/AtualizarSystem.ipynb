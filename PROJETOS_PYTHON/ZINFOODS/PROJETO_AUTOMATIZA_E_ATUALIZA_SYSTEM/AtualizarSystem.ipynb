{
 "cells": [
  {
   "cell_type": "code",
   "execution_count": 1,
   "id": "c95a8fa0-f878-4461-8388-7dbc70ccdb09",
   "metadata": {},
   "outputs": [],
   "source": [
    "import pyautogui as AtualizarSystem"
   ]
  },
  {
   "cell_type": "code",
   "execution_count": 17,
   "id": "c75b667d-6357-4093-ad25-ffa14bc9ac64",
   "metadata": {},
   "outputs": [],
   "source": [
    "\n",
    "AtualizarSystem.sleep(5)#Espera para abrir ou gerar pointclick\n",
    "\n",
    "AtualizarSystem.moveTo(x=200, y=881)#Move até o pesquisar\n",
    "\n",
    "AtualizarSystem.click(x=298, y=876)#Clica no pesquisar\n",
    "\n",
    "AtualizarSystem.sleep(5)#Espera para abrir ou gerar pointclick\n",
    "\n",
    "AtualizarSystem.write('sia') #Pesquisa pelo SIAERP\n",
    "\n",
    "AtualizarSystem.press('enter') #Starta o SIAERP\n",
    "\n",
    "AtualizarSystem.sleep(5)#Espera para abrir ou gerar pointclick\n",
    "\n",
    "AtualizarSystem.write('lavratti') # Escreve a senha do ERP SIA\n",
    "\n",
    "AtualizarSystem.sleep(5)#Espera para abrir ou gerar pointclick\n",
    "\n",
    "AtualizarSystem.press('enter') #Confirma a senha do ERP SIA\n",
    "\n",
    "AtualizarSystem.sleep(5)#Espera para abrir ou gerar pointclick\n",
    "\n",
    "AtualizarSystem.press('enter') #Confirma a mensagem que aparece no ERP SIA\n",
    "\n",
    "AtualizarSystem.sleep(5)#Espera para abrir ou gerar pointclick\n",
    "\n",
    "AtualizarSystem.rightClick(x=762, y=470) # Clica para abrir o ATUALIZADOR\n",
    "\n",
    "AtualizarSystem.press('down') # Pressiona a seta para baixo \n",
    "\n",
    "AtualizarSystem.sleep(5)#Espera para abrir ou gerar pointclick\n",
    "\n",
    "AtualizarSystem.press('enter') #Seleciona a atualização\n",
    "\n",
    "AtualizarSystem.sleep(5)#Espera para abrir ou gerar pointclick\n",
    "\n",
    "AtualizarSystem.moveTo(x=879, y=737)#Move até o botão de atualizar\n",
    "\n",
    "AtualizarSystem.sleep(5)#Espera para abrir ou gerar pointclick\n",
    "\n",
    "AtualizarSystem.click(x=879, y=737)#Clica no botão de atualizar\n",
    "\n",
    "AtualizarSystem.press('enter') #Seleciona a atualização\n",
    "\n",
    "AtualizarSystem.sleep(60)#Espera para abrir ou gerar pointclick\n",
    "\n",
    "AtualizarSystem.press('enter') #Seleciona a atualização\n",
    "\n",
    "AtualizarSystem.sleep(60)#Espera para abrir ou gerar pointclick\n",
    "\n",
    "AtualizarSystem.moveTo(x=879, y=737)#Move até o botão de atualizar\n",
    "\n",
    "AtualizarSystem.sleep(5)#Espera para abrir ou gerar pointclick\n",
    "\n",
    "AtualizarSystem.click(x=879, y=737)#Clica no botão de atualizar"
   ]
  },
  {
   "cell_type": "code",
   "execution_count": null,
   "id": "23699702-9fc5-46d0-b5ac-a6df2cdcb7cb",
   "metadata": {},
   "outputs": [],
   "source": [
    "\n"
   ]
  },
  {
   "cell_type": "code",
   "execution_count": null,
   "id": "1253b34b-8f79-4eaa-aef1-fe5f41de9909",
   "metadata": {},
   "outputs": [],
   "source": []
  },
  {
   "cell_type": "code",
   "execution_count": null,
   "id": "75016513-f9d3-4bdf-8369-7fa6550fa7f3",
   "metadata": {},
   "outputs": [],
   "source": []
  }
 ],
 "metadata": {
  "kernelspec": {
   "display_name": "Python 3 (ipykernel)",
   "language": "python",
   "name": "python3"
  },
  "language_info": {
   "codemirror_mode": {
    "name": "ipython",
    "version": 3
   },
   "file_extension": ".py",
   "mimetype": "text/x-python",
   "name": "python",
   "nbconvert_exporter": "python",
   "pygments_lexer": "ipython3",
   "version": "3.11.5"
  }
 },
 "nbformat": 4,
 "nbformat_minor": 5
}
